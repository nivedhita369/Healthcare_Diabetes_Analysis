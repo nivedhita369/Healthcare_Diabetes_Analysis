{
  "cells": [
    {
      "cell_type": "markdown",
      "metadata": {
        "id": "0aStgWSO0E0E"
      },
      "source": [
        "# **This notebook performs ETL tasks**"
      ]
    },
    {
      "cell_type": "markdown",
      "metadata": {
        "id": "1eLEkw5O0ECa"
      },
      "source": [
        "## Objectives\n",
        "\n",
        "* This notebook covers 3 main objectives:\n",
        "  1. Extract data from source.( The raw data is downloaded from Kaggle and stored in the Raw folder)\n",
        "  2. Transform the data to fit operational needs\n",
        "  3. Load the data into a new csv file saved in the Cleaned folder.\n",
        "\n",
        "## Inputs\n",
        "\n",
        "* Input is the diabetes_prediction_dataset.csv file located in the raw folder(Data main folder).\n",
        "* Input file is downloaded from Kaggle: https://www.kaggle.com/datasets/iammustafatz/diabetes-prediction-dataset\n",
        "* The dataset contains contains medical and demographic data of patients along with their diabetes status.\n",
        "* The 8 features in the dataset include:\n",
        "  - age                     : Patient's age in years.\n",
        "  - gender                  : Biological sex of the patient (e.g., Male, Female, Other)\n",
        "  - body mass index (BMI)   : A measure of body fat based on height and weight (kg/m²).\n",
        "  - hypertension            : Presence of high blood pressure (1 = Yes, 0 = No).\n",
        "  - heart disease           : Presence of heart condition (1 = Yes, 0 = No).\n",
        "  - smoking history         : Patient’s past or current smoking behavior (e.g., never, former, current)\n",
        "  - HbA1c level             : Average blood sugar level over the past 2-3 months (%).\n",
        "  - blood glucose level     : Current blood sugar level (usually measured in mg/dL).\n",
        "\n",
        "* The target variable is:\n",
        "  - diabetes                : Indicates whether the patient has diabetes (1 = Yes, 0 = No).\n",
        "\n",
        "## Outputs\n",
        "\n",
        "* The output is a cleaned CSV file named cleaned_diabetes_data.csv located in the cleaned folder(Data main folder). \n",
        "\n",
        "## Additional Comments\n",
        "\n",
        "* The original dataset is quite huge with 100K records. \n",
        "* The target variable is imbalanced with only ~9% positive for diabetes. This could be a representation of real-world prevalence.\n",
        "* For the purpose of this project, a subset of 10K records is extracted by randomly sampling 5k records from each target class to preserve balance. \n",
        "* Subset extraction steps:  \n",
        "  1. Load the original dataset into a pandas dataframe.\n",
        "  2. Split the dataset into two for each target class (diabetes = 0 and diabetes = 1).\n",
        "  3. Randomly sample 5k records from each class.\n",
        "  4. Concatenate the two sampled datasets to create a balanced subset of 10k records.\n",
        "  5. Save the sampled records into a new CSV file named sampled_diabetes.csv in the raw folder for the rest of the ETL steps.\n",
        "  6. The original large dataset is retained in the Raw folder for reference but added to the .gitignore file to avoid commiting large files to the repo."
      ]
    },
    {
      "cell_type": "markdown",
      "metadata": {
        "id": "9uWZXH9LwoQg"
      },
      "source": [
        "---"
      ]
    },
    {
      "cell_type": "markdown",
      "metadata": {
        "id": "cqP-UeN-z3i2"
      },
      "source": [
        "# Change working directory"
      ]
    },
    {
      "cell_type": "markdown",
      "metadata": {},
      "source": [
        "* We are assuming you will store the notebooks in a subfolder, therefore when running the notebook in the editor, you will need to change the working directory"
      ]
    },
    {
      "cell_type": "markdown",
      "metadata": {
        "id": "aOGIGS-uz3i2"
      },
      "source": [
        "We need to change the working directory from its current folder to its parent folder\n",
        "* We access the current directory with os.getcwd()"
      ]
    },
    {
      "cell_type": "code",
      "execution_count": 1,
      "metadata": {
        "id": "wZfF_j-Bz3i4",
        "outputId": "66943449-1436-4c3d-85c7-b85f9f78349b"
      },
      "outputs": [
        {
          "data": {
            "text/plain": [
              "'/workspaces/Healthcare_Diabetes_Analysis/jupyter_notebooks'"
            ]
          },
          "execution_count": 1,
          "metadata": {},
          "output_type": "execute_result"
        }
      ],
      "source": [
        "import os\n",
        "current_dir = os.getcwd()\n",
        "current_dir"
      ]
    },
    {
      "cell_type": "markdown",
      "metadata": {
        "id": "9MWW8E7lz3i7"
      },
      "source": [
        "We want to make the parent of the current directory the new current directory\n",
        "* os.path.dirname() gets the parent directory\n",
        "* os.chir() defines the new current directory"
      ]
    },
    {
      "cell_type": "code",
      "execution_count": 2,
      "metadata": {
        "id": "TwHsQRWjz3i9",
        "outputId": "86849db3-cd2f-4cc5-ebb8-2d0caafa1a2c"
      },
      "outputs": [
        {
          "name": "stdout",
          "output_type": "stream",
          "text": [
            "You set a new current directory\n"
          ]
        }
      ],
      "source": [
        "os.chdir(os.path.dirname(current_dir))\n",
        "print(\"You set a new current directory\")"
      ]
    },
    {
      "cell_type": "markdown",
      "metadata": {
        "id": "M_xPk_Ijz3i-"
      },
      "source": [
        "Confirm the new current directory"
      ]
    },
    {
      "cell_type": "code",
      "execution_count": 3,
      "metadata": {
        "id": "vz3S-_kjz3jA",
        "outputId": "00b79ae4-75d0-4a96-d193-ac9ef9847ea2"
      },
      "outputs": [
        {
          "data": {
            "text/plain": [
              "'/workspaces/Healthcare_Diabetes_Analysis'"
            ]
          },
          "execution_count": 3,
          "metadata": {},
          "output_type": "execute_result"
        }
      ],
      "source": [
        "current_dir = os.getcwd()\n",
        "current_dir"
      ]
    },
    {
      "cell_type": "markdown",
      "metadata": {
        "id": "-mavJ8DibrcQ"
      },
      "source": [
        "# Extraction"
      ]
    },
    {
      "cell_type": "markdown",
      "metadata": {},
      "source": [
        "* Importing needed libraries"
      ]
    },
    {
      "cell_type": "code",
      "execution_count": 4,
      "metadata": {},
      "outputs": [],
      "source": [
        "import pandas as pd"
      ]
    },
    {
      "cell_type": "markdown",
      "metadata": {},
      "source": [
        "* Loading the original raw data into a pandas dataframe"
      ]
    },
    {
      "cell_type": "code",
      "execution_count": 5,
      "metadata": {},
      "outputs": [
        {
          "data": {
            "text/html": [
              "<div>\n",
              "<style scoped>\n",
              "    .dataframe tbody tr th:only-of-type {\n",
              "        vertical-align: middle;\n",
              "    }\n",
              "\n",
              "    .dataframe tbody tr th {\n",
              "        vertical-align: top;\n",
              "    }\n",
              "\n",
              "    .dataframe thead th {\n",
              "        text-align: right;\n",
              "    }\n",
              "</style>\n",
              "<table border=\"1\" class=\"dataframe\">\n",
              "  <thead>\n",
              "    <tr style=\"text-align: right;\">\n",
              "      <th></th>\n",
              "      <th>gender</th>\n",
              "      <th>age</th>\n",
              "      <th>hypertension</th>\n",
              "      <th>heart_disease</th>\n",
              "      <th>smoking_history</th>\n",
              "      <th>bmi</th>\n",
              "      <th>HbA1c_level</th>\n",
              "      <th>blood_glucose_level</th>\n",
              "      <th>diabetes</th>\n",
              "    </tr>\n",
              "  </thead>\n",
              "  <tbody>\n",
              "    <tr>\n",
              "      <th>0</th>\n",
              "      <td>Female</td>\n",
              "      <td>80.0</td>\n",
              "      <td>0</td>\n",
              "      <td>1</td>\n",
              "      <td>never</td>\n",
              "      <td>25.19</td>\n",
              "      <td>6.6</td>\n",
              "      <td>140</td>\n",
              "      <td>0</td>\n",
              "    </tr>\n",
              "    <tr>\n",
              "      <th>1</th>\n",
              "      <td>Female</td>\n",
              "      <td>54.0</td>\n",
              "      <td>0</td>\n",
              "      <td>0</td>\n",
              "      <td>No Info</td>\n",
              "      <td>27.32</td>\n",
              "      <td>6.6</td>\n",
              "      <td>80</td>\n",
              "      <td>0</td>\n",
              "    </tr>\n",
              "    <tr>\n",
              "      <th>2</th>\n",
              "      <td>Male</td>\n",
              "      <td>28.0</td>\n",
              "      <td>0</td>\n",
              "      <td>0</td>\n",
              "      <td>never</td>\n",
              "      <td>27.32</td>\n",
              "      <td>5.7</td>\n",
              "      <td>158</td>\n",
              "      <td>0</td>\n",
              "    </tr>\n",
              "    <tr>\n",
              "      <th>3</th>\n",
              "      <td>Female</td>\n",
              "      <td>36.0</td>\n",
              "      <td>0</td>\n",
              "      <td>0</td>\n",
              "      <td>current</td>\n",
              "      <td>23.45</td>\n",
              "      <td>5.0</td>\n",
              "      <td>155</td>\n",
              "      <td>0</td>\n",
              "    </tr>\n",
              "    <tr>\n",
              "      <th>4</th>\n",
              "      <td>Male</td>\n",
              "      <td>76.0</td>\n",
              "      <td>1</td>\n",
              "      <td>1</td>\n",
              "      <td>current</td>\n",
              "      <td>20.14</td>\n",
              "      <td>4.8</td>\n",
              "      <td>155</td>\n",
              "      <td>0</td>\n",
              "    </tr>\n",
              "  </tbody>\n",
              "</table>\n",
              "</div>"
            ],
            "text/plain": [
              "   gender   age  hypertension  heart_disease smoking_history    bmi  \\\n",
              "0  Female  80.0             0              1           never  25.19   \n",
              "1  Female  54.0             0              0         No Info  27.32   \n",
              "2    Male  28.0             0              0           never  27.32   \n",
              "3  Female  36.0             0              0         current  23.45   \n",
              "4    Male  76.0             1              1         current  20.14   \n",
              "\n",
              "   HbA1c_level  blood_glucose_level  diabetes  \n",
              "0          6.6                  140         0  \n",
              "1          6.6                   80         0  \n",
              "2          5.7                  158         0  \n",
              "3          5.0                  155         0  \n",
              "4          4.8                  155         0  "
            ]
          },
          "execution_count": 5,
          "metadata": {},
          "output_type": "execute_result"
        }
      ],
      "source": [
        "df_original = pd.read_csv('Data/raw/diabetes_prediction_dataset.csv')\n",
        "df_original.head()"
      ]
    },
    {
      "cell_type": "markdown",
      "metadata": {},
      "source": [
        "* Checking the shape of the original dataframe"
      ]
    },
    {
      "cell_type": "code",
      "execution_count": 6,
      "metadata": {},
      "outputs": [
        {
          "data": {
            "text/plain": [
              "(100000, 9)"
            ]
          },
          "execution_count": 6,
          "metadata": {},
          "output_type": "execute_result"
        }
      ],
      "source": [
        "df_original.shape"
      ]
    },
    {
      "cell_type": "markdown",
      "metadata": {},
      "source": [
        "* checking basic info of the original dataframe"
      ]
    },
    {
      "cell_type": "code",
      "execution_count": 7,
      "metadata": {},
      "outputs": [
        {
          "name": "stdout",
          "output_type": "stream",
          "text": [
            "<class 'pandas.core.frame.DataFrame'>\n",
            "RangeIndex: 100000 entries, 0 to 99999\n",
            "Data columns (total 9 columns):\n",
            " #   Column               Non-Null Count   Dtype  \n",
            "---  ------               --------------   -----  \n",
            " 0   gender               100000 non-null  object \n",
            " 1   age                  100000 non-null  float64\n",
            " 2   hypertension         100000 non-null  int64  \n",
            " 3   heart_disease        100000 non-null  int64  \n",
            " 4   smoking_history      100000 non-null  object \n",
            " 5   bmi                  100000 non-null  float64\n",
            " 6   HbA1c_level          100000 non-null  float64\n",
            " 7   blood_glucose_level  100000 non-null  int64  \n",
            " 8   diabetes             100000 non-null  int64  \n",
            "dtypes: float64(3), int64(4), object(2)\n",
            "memory usage: 6.9+ MB\n"
          ]
        }
      ],
      "source": [
        "df_original.info()"
      ]
    },
    {
      "cell_type": "markdown",
      "metadata": {},
      "source": [
        "* checking for class balance in the target variable by displaying value counts as percentage(0 - no diabetes\n",
        "1 - diabetes)"
      ]
    },
    {
      "cell_type": "code",
      "execution_count": 8,
      "metadata": {},
      "outputs": [
        {
          "name": "stdout",
          "output_type": "stream",
          "text": [
            "Diabetes value count as %: diabetes\n",
            "0    91.5\n",
            "1     8.5\n",
            "Name: proportion, dtype: float64\n"
          ]
        }
      ],
      "source": [
        "print(\"Diabetes value count as %:\", df_original['diabetes'].value_counts(normalize=True) * 100)"
      ]
    },
    {
      "cell_type": "markdown",
      "metadata": {},
      "source": [
        "* As we can see from above the dataset is quite huge with 100K records and the target variable is imbalanced with only ~9% positive for diabetes. \n",
        "* Extracting only 10k records by randomly sampling 5k records from each target class to preserve balance."
      ]
    },
    {
      "cell_type": "code",
      "execution_count": 9,
      "metadata": {},
      "outputs": [
        {
          "name": "stdout",
          "output_type": "stream",
          "text": [
            "(10000, 9)\n",
            "diabetes\n",
            "1    5000\n",
            "0    5000\n",
            "Name: count, dtype: int64\n"
          ]
        }
      ],
      "source": [
        "\"\"\"\n",
        "splitting the dataset into 2 by target class and sampling 5000 records from each class to avoid bias\n",
        "\"\"\"\n",
        "\n",
        "# Separate by class\n",
        "df_original_no_diab = df_original[df_original['diabetes'] == 0]\n",
        "df_original_diab = df_original[df_original['diabetes'] == 1]\n",
        "\n",
        "\"\"\" \n",
        "Check if each class has at least 5000 records since we wanted 10k records (this check is purely optional)\n",
        "Setting random state for reproducibility\n",
        "\"\"\"\n",
        "\n",
        "min_samp_size = 5000\n",
        "if len(df_original_no_diab) >= min_samp_size and len(df_original_diab) >= min_samp_size:\n",
        "    # Randomly sample 5000 from each class\n",
        "    df_no_diab_sampled = df_original_no_diab.sample(n=min_samp_size, random_state=42)\n",
        "    df_diab_sampled = df_original_diab.sample(n=min_samp_size, random_state=42)\n",
        "\n",
        "    # Combine and shuffle the final dataset\n",
        "    df_raw = pd.concat([df_no_diab_sampled, df_diab_sampled]).sample(frac=1, random_state=42).reset_index(drop=True)\n",
        "\n",
        "    print(df_raw.shape)\n",
        "    print(df_raw['diabetes'].value_counts())\n",
        "else:\n",
        "    print(\"Not enough data to sample 5000 from each class.\")"
      ]
    },
    {
      "cell_type": "markdown",
      "metadata": {},
      "source": [
        "* The stats  from the sampled raw dataframe above show 10k records with value counts of the target variable confirming that we have a balanced dataset now."
      ]
    },
    {
      "cell_type": "markdown",
      "metadata": {},
      "source": [
        "* Save this sampled raw dataframe to a new csv file in the Raw folder for the rest of the ETL steps"
      ]
    },
    {
      "cell_type": "code",
      "execution_count": 10,
      "metadata": {},
      "outputs": [],
      "source": [
        "current_dir = os.getcwd()\n",
        "current_dir\n",
        "\n",
        "df_raw.to_csv('Data/raw/sampled_diabetes.csv', index=False)\n"
      ]
    },
    {
      "cell_type": "markdown",
      "metadata": {
        "id": "ZY3l0-AxO93d"
      },
      "source": [
        "---"
      ]
    },
    {
      "cell_type": "markdown",
      "metadata": {
        "id": "uFQo3ycuO-v6"
      },
      "source": [
        "# TRANSFORMATION"
      ]
    },
    {
      "cell_type": "markdown",
      "metadata": {},
      "source": [
        "* In the transformation phase the objective is to have a clean dataset with no missing values, duplicates or invalid data types.\n",
        "* We do the steps below to achieve this:\n",
        "\n",
        "  1. Check for missing values and handle them appropriately.\n",
        "  2. Check for duplicate records and remove them.\n",
        "  3. Validate data types of each column and convert if necessary.\n",
        "  4. Perform any additional cleaning steps as needed.\n",
        "\n",
        "* Further tranasformations like feature engineering, normalization or encoding  will be done later in a feaure engineerting notebook post EDA so that we have a better understanding of the data and do all the appropriate transformations."
      ]
    },
    {
      "cell_type": "code",
      "execution_count": 11,
      "metadata": {},
      "outputs": [
        {
          "data": {
            "text/html": [
              "<div>\n",
              "<style scoped>\n",
              "    .dataframe tbody tr th:only-of-type {\n",
              "        vertical-align: middle;\n",
              "    }\n",
              "\n",
              "    .dataframe tbody tr th {\n",
              "        vertical-align: top;\n",
              "    }\n",
              "\n",
              "    .dataframe thead th {\n",
              "        text-align: right;\n",
              "    }\n",
              "</style>\n",
              "<table border=\"1\" class=\"dataframe\">\n",
              "  <thead>\n",
              "    <tr style=\"text-align: right;\">\n",
              "      <th></th>\n",
              "      <th>gender</th>\n",
              "      <th>age</th>\n",
              "      <th>hypertension</th>\n",
              "      <th>heart_disease</th>\n",
              "      <th>smoking_history</th>\n",
              "      <th>bmi</th>\n",
              "      <th>HbA1c_level</th>\n",
              "      <th>blood_glucose_level</th>\n",
              "      <th>diabetes</th>\n",
              "    </tr>\n",
              "  </thead>\n",
              "  <tbody>\n",
              "    <tr>\n",
              "      <th>0</th>\n",
              "      <td>Male</td>\n",
              "      <td>80.0</td>\n",
              "      <td>0</td>\n",
              "      <td>0</td>\n",
              "      <td>former</td>\n",
              "      <td>26.40</td>\n",
              "      <td>8.2</td>\n",
              "      <td>126</td>\n",
              "      <td>1</td>\n",
              "    </tr>\n",
              "    <tr>\n",
              "      <th>1</th>\n",
              "      <td>Female</td>\n",
              "      <td>13.0</td>\n",
              "      <td>0</td>\n",
              "      <td>0</td>\n",
              "      <td>never</td>\n",
              "      <td>30.72</td>\n",
              "      <td>6.1</td>\n",
              "      <td>158</td>\n",
              "      <td>0</td>\n",
              "    </tr>\n",
              "    <tr>\n",
              "      <th>2</th>\n",
              "      <td>Male</td>\n",
              "      <td>5.0</td>\n",
              "      <td>0</td>\n",
              "      <td>0</td>\n",
              "      <td>No Info</td>\n",
              "      <td>27.32</td>\n",
              "      <td>6.2</td>\n",
              "      <td>80</td>\n",
              "      <td>0</td>\n",
              "    </tr>\n",
              "    <tr>\n",
              "      <th>3</th>\n",
              "      <td>Female</td>\n",
              "      <td>47.0</td>\n",
              "      <td>0</td>\n",
              "      <td>0</td>\n",
              "      <td>never</td>\n",
              "      <td>45.88</td>\n",
              "      <td>4.0</td>\n",
              "      <td>159</td>\n",
              "      <td>0</td>\n",
              "    </tr>\n",
              "    <tr>\n",
              "      <th>4</th>\n",
              "      <td>Female</td>\n",
              "      <td>26.0</td>\n",
              "      <td>0</td>\n",
              "      <td>0</td>\n",
              "      <td>not current</td>\n",
              "      <td>27.32</td>\n",
              "      <td>6.0</td>\n",
              "      <td>130</td>\n",
              "      <td>0</td>\n",
              "    </tr>\n",
              "  </tbody>\n",
              "</table>\n",
              "</div>"
            ],
            "text/plain": [
              "   gender   age  hypertension  heart_disease smoking_history    bmi  \\\n",
              "0    Male  80.0             0              0          former  26.40   \n",
              "1  Female  13.0             0              0           never  30.72   \n",
              "2    Male   5.0             0              0         No Info  27.32   \n",
              "3  Female  47.0             0              0           never  45.88   \n",
              "4  Female  26.0             0              0     not current  27.32   \n",
              "\n",
              "   HbA1c_level  blood_glucose_level  diabetes  \n",
              "0          8.2                  126         1  \n",
              "1          6.1                  158         0  \n",
              "2          6.2                   80         0  \n",
              "3          4.0                  159         0  \n",
              "4          6.0                  130         0  "
            ]
          },
          "execution_count": 11,
          "metadata": {},
          "output_type": "execute_result"
        }
      ],
      "source": [
        "# inspectng the first few rows of the dataframe\n",
        "\n",
        "df_raw.head()"
      ]
    },
    {
      "cell_type": "code",
      "execution_count": 12,
      "metadata": {},
      "outputs": [
        {
          "data": {
            "text/plain": [
              "(10000, 9)"
            ]
          },
          "execution_count": 12,
          "metadata": {},
          "output_type": "execute_result"
        }
      ],
      "source": [
        "# Check the shape of the dataframe\n",
        "df_raw.shape"
      ]
    },
    {
      "cell_type": "markdown",
      "metadata": {},
      "source": [
        "* Using .info() method, gives a summary of the dataframe including the data types and non-null counts for each column. There by we can check for missing values and inconsistencies in data types of each column."
      ]
    },
    {
      "cell_type": "code",
      "execution_count": 13,
      "metadata": {},
      "outputs": [
        {
          "name": "stdout",
          "output_type": "stream",
          "text": [
            "<class 'pandas.core.frame.DataFrame'>\n",
            "RangeIndex: 10000 entries, 0 to 9999\n",
            "Data columns (total 9 columns):\n",
            " #   Column               Non-Null Count  Dtype  \n",
            "---  ------               --------------  -----  \n",
            " 0   gender               10000 non-null  object \n",
            " 1   age                  10000 non-null  float64\n",
            " 2   hypertension         10000 non-null  int64  \n",
            " 3   heart_disease        10000 non-null  int64  \n",
            " 4   smoking_history      10000 non-null  object \n",
            " 5   bmi                  10000 non-null  float64\n",
            " 6   HbA1c_level          10000 non-null  float64\n",
            " 7   blood_glucose_level  10000 non-null  int64  \n",
            " 8   diabetes             10000 non-null  int64  \n",
            "dtypes: float64(3), int64(4), object(2)\n",
            "memory usage: 703.3+ KB\n"
          ]
        }
      ],
      "source": [
        "# Check the data types of the columns and details of the dataframe\n",
        "df_raw.info()"
      ]
    },
    {
      "cell_type": "markdown",
      "metadata": {},
      "source": [
        "* as we can see there are no missing values and all data types are appropriate.\n",
        "* we can check the age column to see if there are any decimal values in it. If not we can convert it to integer type.\n",
        "* The column names do not seem to have any spaces, _ used instead which is good for coding purposes. All other column names are lowercase, except for HbA1c which I intend to keep as is since it is a standard medical abbreviation."
      ]
    },
    {
      "cell_type": "markdown",
      "metadata": {},
      "source": [
        "#### checking age column for decimal values"
      ]
    },
    {
      "cell_type": "code",
      "execution_count": 14,
      "metadata": {},
      "outputs": [
        {
          "data": {
            "text/plain": [
              "array([80.  , 13.  ,  5.  , 47.  , 26.  , 57.  , 63.  , 74.  , 65.  ,\n",
              "       25.  , 34.  , 60.  , 71.  , 27.  , 35.  , 64.  , 67.  , 75.  ,\n",
              "       62.  , 59.  , 39.  , 44.  , 43.  , 58.  , 55.  , 70.  , 66.  ,\n",
              "       53.  , 49.  , 19.  , 22.  , 78.  , 10.  ,  2.  , 20.  , 51.  ,\n",
              "       76.  , 69.  , 72.  , 77.  , 16.  , 29.  , 23.  , 14.  , 38.  ,\n",
              "       41.  ,  9.  , 61.  , 54.  , 11.  ,  6.  , 50.  , 37.  , 52.  ,\n",
              "       17.  , 24.  , 42.  , 73.  , 18.  , 46.  , 36.  , 56.  , 15.  ,\n",
              "       28.  , 30.  , 45.  ,  7.  , 12.  , 79.  , 40.  , 31.  , 33.  ,\n",
              "       68.  ,  8.  ,  0.8 , 48.  ,  3.  ,  4.  ,  1.16,  0.64,  1.88,\n",
              "       32.  , 21.  ,  0.88,  1.48,  1.72,  1.64,  0.32,  0.48,  0.72,\n",
              "        1.08,  0.08,  1.32,  0.24,  1.56,  0.16,  0.4 ,  0.56,  1.8 ,\n",
              "        1.24,  1.4 ,  1.  ])"
            ]
          },
          "execution_count": 14,
          "metadata": {},
          "output_type": "execute_result"
        }
      ],
      "source": [
        "# checking for the age if there are any decimal values\n",
        "df_raw['age'].unique()"
      ]
    },
    {
      "cell_type": "markdown",
      "metadata": {},
      "source": [
        "* From the uniquue values of age, there are some infants, toddlers and children. Checking for the count of records which are not adults and decide what to do with them."
      ]
    },
    {
      "cell_type": "code",
      "execution_count": 15,
      "metadata": {},
      "outputs": [
        {
          "name": "stdout",
          "output_type": "stream",
          "text": [
            "Count of non-adults: 936\n"
          ]
        }
      ],
      "source": [
        "# checking the count of records for age below 18 - Non adults\n",
        "\n",
        "count = (df_raw['age'] < 18).sum()\n",
        "\n",
        "print(f\"Count of non-adults: {count}\")    "
      ]
    },
    {
      "cell_type": "markdown",
      "metadata": {},
      "source": [
        "* Since this diabetes analysis dataset also has feature like smoking and bmi which are lifestyle related, and they dont seem of much relevance for infants,toddlers and children below 18 years, I will be removing those records."
      ]
    },
    {
      "cell_type": "code",
      "execution_count": 16,
      "metadata": {},
      "outputs": [
        {
          "name": "stdout",
          "output_type": "stream",
          "text": [
            "(936, 9)\n",
            "(9064, 9)\n",
            "diabetes\n",
            "1    4955\n",
            "0    4109\n",
            "Name: count, dtype: int64\n"
          ]
        }
      ],
      "source": [
        "# copying the raw dataset to another dataframe before removing the non adults (infants, toddlers and children)\n",
        "\n",
        "df_raw_copy = df_raw.copy()\n",
        "\n",
        "# loading the non-adults to a seperate dataframe and checking the shape of the dataframe\n",
        "df_raw_non_adults = df_raw[df_raw['age'] < 18].copy()\n",
        "print(df_raw_non_adults.shape)\n",
        "\n",
        "# loading the adults to a seperate dataframe and checking the shape of the dataframe and value counts of target class\n",
        "df_raw_adults = df_raw[df_raw['age'] >= 18].copy()\n",
        "print(df_raw_adults.shape)\n",
        "print(df_raw_adults['diabetes'].value_counts())"
      ]
    },
    {
      "cell_type": "markdown",
      "metadata": {},
      "source": [
        "* The value counts on the target variable after removing non adults shows that we have a relatively balanced dataset. So further cleaning steps will be done on this dataframe(df_raw_adults)."
      ]
    },
    {
      "cell_type": "code",
      "execution_count": 17,
      "metadata": {},
      "outputs": [
        {
          "data": {
            "text/plain": [
              "array([80., 47., 26., 57., 63., 74., 65., 25., 34., 60., 71., 27., 35.,\n",
              "       64., 67., 75., 62., 59., 39., 44., 43., 58., 55., 70., 66., 53.,\n",
              "       49., 19., 22., 78., 20., 51., 76., 69., 72., 77., 29., 23., 38.,\n",
              "       41., 61., 54., 50., 37., 52., 24., 42., 73., 18., 46., 36., 56.,\n",
              "       28., 30., 45., 79., 40., 31., 33., 68., 48., 32., 21.])"
            ]
          },
          "execution_count": 17,
          "metadata": {},
          "output_type": "execute_result"
        }
      ],
      "source": [
        "# checking for the age if there are any decimal values on the adults dataset\n",
        "df_raw_adults['age'].unique()"
      ]
    },
    {
      "cell_type": "markdown",
      "metadata": {},
      "source": [
        "* unique values do not show any decimal values. so doing a quick check to confirm if the age column is of integer\n",
        " values only and convert the data type to integer  from float.\n",
        "\n"
      ]
    },
    {
      "cell_type": "code",
      "execution_count": 18,
      "metadata": {},
      "outputs": [
        {
          "name": "stdout",
          "output_type": "stream",
          "text": [
            " Age column has no fractional values. Safe to Convert to integer.\n"
          ]
        }
      ],
      "source": [
        "# check if any of the age column has a fractional part\n",
        "\n",
        "age_has_fractional = (df_raw_adults['age'] % 1 != 0).any()\n",
        "\n",
        "if age_has_fractional:\n",
        "    print(\" Age column has fractional values. Cannot convert to integer.\")\n",
        "else:\n",
        "    print(\" Age column has no fractional values. Safe to Convert to integer.\")\n",
        "    "
      ]
    },
    {
      "cell_type": "code",
      "execution_count": 19,
      "metadata": {},
      "outputs": [
        {
          "name": "stdout",
          "output_type": "stream",
          "text": [
            "Conversion done.\n"
          ]
        }
      ],
      "source": [
        "# converting age to interger type from float  \n",
        "df_raw_adults['age'] = df_raw_adults['age'].astype(int)\n",
        "print(\"Conversion done.\")"
      ]
    },
    {
      "cell_type": "code",
      "execution_count": 20,
      "metadata": {},
      "outputs": [
        {
          "name": "stdout",
          "output_type": "stream",
          "text": [
            "<class 'pandas.core.frame.DataFrame'>\n",
            "Index: 9064 entries, 0 to 9999\n",
            "Data columns (total 9 columns):\n",
            " #   Column               Non-Null Count  Dtype  \n",
            "---  ------               --------------  -----  \n",
            " 0   gender               9064 non-null   object \n",
            " 1   age                  9064 non-null   int64  \n",
            " 2   hypertension         9064 non-null   int64  \n",
            " 3   heart_disease        9064 non-null   int64  \n",
            " 4   smoking_history      9064 non-null   object \n",
            " 5   bmi                  9064 non-null   float64\n",
            " 6   HbA1c_level          9064 non-null   float64\n",
            " 7   blood_glucose_level  9064 non-null   int64  \n",
            " 8   diabetes             9064 non-null   int64  \n",
            "dtypes: float64(2), int64(5), object(2)\n",
            "memory usage: 708.1+ KB\n"
          ]
        }
      ],
      "source": [
        "# checking with info to confirm the age column is of integer type\n",
        "df_raw_adults.info()"
      ]
    },
    {
      "cell_type": "markdown",
      "metadata": {},
      "source": [
        "#### Checking for missing values"
      ]
    },
    {
      "cell_type": "code",
      "execution_count": 21,
      "metadata": {},
      "outputs": [
        {
          "data": {
            "text/plain": [
              "gender                 0\n",
              "age                    0\n",
              "hypertension           0\n",
              "heart_disease          0\n",
              "smoking_history        0\n",
              "bmi                    0\n",
              "HbA1c_level            0\n",
              "blood_glucose_level    0\n",
              "diabetes               0\n",
              "dtype: int64"
            ]
          },
          "execution_count": 21,
          "metadata": {},
          "output_type": "execute_result"
        }
      ],
      "source": [
        "df_raw_adults.isnull().sum()"
      ]
    },
    {
      "cell_type": "markdown",
      "metadata": {},
      "source": [
        "* There are no missing values in any of the columns in the dataframe."
      ]
    },
    {
      "cell_type": "markdown",
      "metadata": {},
      "source": [
        "#### checking for duplicates"
      ]
    },
    {
      "cell_type": "code",
      "execution_count": 22,
      "metadata": {},
      "outputs": [
        {
          "name": "stdout",
          "output_type": "stream",
          "text": [
            "duplicates count before: 21\n"
          ]
        },
        {
          "data": {
            "text/html": [
              "<div>\n",
              "<style scoped>\n",
              "    .dataframe tbody tr th:only-of-type {\n",
              "        vertical-align: middle;\n",
              "    }\n",
              "\n",
              "    .dataframe tbody tr th {\n",
              "        vertical-align: top;\n",
              "    }\n",
              "\n",
              "    .dataframe thead th {\n",
              "        text-align: right;\n",
              "    }\n",
              "</style>\n",
              "<table border=\"1\" class=\"dataframe\">\n",
              "  <thead>\n",
              "    <tr style=\"text-align: right;\">\n",
              "      <th></th>\n",
              "      <th>gender</th>\n",
              "      <th>age</th>\n",
              "      <th>hypertension</th>\n",
              "      <th>heart_disease</th>\n",
              "      <th>smoking_history</th>\n",
              "      <th>bmi</th>\n",
              "      <th>HbA1c_level</th>\n",
              "      <th>blood_glucose_level</th>\n",
              "      <th>diabetes</th>\n",
              "    </tr>\n",
              "  </thead>\n",
              "  <tbody>\n",
              "    <tr>\n",
              "      <th>531</th>\n",
              "      <td>Male</td>\n",
              "      <td>38</td>\n",
              "      <td>0</td>\n",
              "      <td>0</td>\n",
              "      <td>No Info</td>\n",
              "      <td>31.85</td>\n",
              "      <td>5.7</td>\n",
              "      <td>220</td>\n",
              "      <td>1</td>\n",
              "    </tr>\n",
              "    <tr>\n",
              "      <th>691</th>\n",
              "      <td>Male</td>\n",
              "      <td>80</td>\n",
              "      <td>0</td>\n",
              "      <td>0</td>\n",
              "      <td>No Info</td>\n",
              "      <td>27.32</td>\n",
              "      <td>5.7</td>\n",
              "      <td>90</td>\n",
              "      <td>0</td>\n",
              "    </tr>\n",
              "    <tr>\n",
              "      <th>952</th>\n",
              "      <td>Male</td>\n",
              "      <td>47</td>\n",
              "      <td>0</td>\n",
              "      <td>0</td>\n",
              "      <td>No Info</td>\n",
              "      <td>27.32</td>\n",
              "      <td>5.8</td>\n",
              "      <td>155</td>\n",
              "      <td>0</td>\n",
              "    </tr>\n",
              "    <tr>\n",
              "      <th>954</th>\n",
              "      <td>Female</td>\n",
              "      <td>36</td>\n",
              "      <td>0</td>\n",
              "      <td>0</td>\n",
              "      <td>No Info</td>\n",
              "      <td>27.32</td>\n",
              "      <td>6.6</td>\n",
              "      <td>130</td>\n",
              "      <td>0</td>\n",
              "    </tr>\n",
              "    <tr>\n",
              "      <th>1161</th>\n",
              "      <td>Female</td>\n",
              "      <td>22</td>\n",
              "      <td>0</td>\n",
              "      <td>0</td>\n",
              "      <td>No Info</td>\n",
              "      <td>27.32</td>\n",
              "      <td>5.7</td>\n",
              "      <td>126</td>\n",
              "      <td>0</td>\n",
              "    </tr>\n",
              "    <tr>\n",
              "      <th>1198</th>\n",
              "      <td>Female</td>\n",
              "      <td>76</td>\n",
              "      <td>0</td>\n",
              "      <td>0</td>\n",
              "      <td>No Info</td>\n",
              "      <td>27.32</td>\n",
              "      <td>6.2</td>\n",
              "      <td>260</td>\n",
              "      <td>1</td>\n",
              "    </tr>\n",
              "    <tr>\n",
              "      <th>1303</th>\n",
              "      <td>Female</td>\n",
              "      <td>80</td>\n",
              "      <td>0</td>\n",
              "      <td>0</td>\n",
              "      <td>never</td>\n",
              "      <td>27.32</td>\n",
              "      <td>6.5</td>\n",
              "      <td>160</td>\n",
              "      <td>0</td>\n",
              "    </tr>\n",
              "    <tr>\n",
              "      <th>1577</th>\n",
              "      <td>Male</td>\n",
              "      <td>66</td>\n",
              "      <td>0</td>\n",
              "      <td>0</td>\n",
              "      <td>No Info</td>\n",
              "      <td>27.32</td>\n",
              "      <td>5.7</td>\n",
              "      <td>130</td>\n",
              "      <td>1</td>\n",
              "    </tr>\n",
              "    <tr>\n",
              "      <th>2107</th>\n",
              "      <td>Female</td>\n",
              "      <td>65</td>\n",
              "      <td>0</td>\n",
              "      <td>0</td>\n",
              "      <td>No Info</td>\n",
              "      <td>27.32</td>\n",
              "      <td>4.0</td>\n",
              "      <td>85</td>\n",
              "      <td>0</td>\n",
              "    </tr>\n",
              "    <tr>\n",
              "      <th>2419</th>\n",
              "      <td>Female</td>\n",
              "      <td>47</td>\n",
              "      <td>0</td>\n",
              "      <td>0</td>\n",
              "      <td>No Info</td>\n",
              "      <td>27.32</td>\n",
              "      <td>4.0</td>\n",
              "      <td>100</td>\n",
              "      <td>0</td>\n",
              "    </tr>\n",
              "    <tr>\n",
              "      <th>2474</th>\n",
              "      <td>Male</td>\n",
              "      <td>53</td>\n",
              "      <td>0</td>\n",
              "      <td>0</td>\n",
              "      <td>No Info</td>\n",
              "      <td>27.32</td>\n",
              "      <td>4.5</td>\n",
              "      <td>100</td>\n",
              "      <td>0</td>\n",
              "    </tr>\n",
              "    <tr>\n",
              "      <th>2488</th>\n",
              "      <td>Male</td>\n",
              "      <td>49</td>\n",
              "      <td>0</td>\n",
              "      <td>0</td>\n",
              "      <td>never</td>\n",
              "      <td>27.32</td>\n",
              "      <td>6.2</td>\n",
              "      <td>240</td>\n",
              "      <td>1</td>\n",
              "    </tr>\n",
              "    <tr>\n",
              "      <th>2519</th>\n",
              "      <td>Female</td>\n",
              "      <td>80</td>\n",
              "      <td>0</td>\n",
              "      <td>0</td>\n",
              "      <td>No Info</td>\n",
              "      <td>27.32</td>\n",
              "      <td>9.0</td>\n",
              "      <td>220</td>\n",
              "      <td>1</td>\n",
              "    </tr>\n",
              "    <tr>\n",
              "      <th>2815</th>\n",
              "      <td>Female</td>\n",
              "      <td>76</td>\n",
              "      <td>0</td>\n",
              "      <td>0</td>\n",
              "      <td>No Info</td>\n",
              "      <td>27.32</td>\n",
              "      <td>6.2</td>\n",
              "      <td>260</td>\n",
              "      <td>1</td>\n",
              "    </tr>\n",
              "    <tr>\n",
              "      <th>3038</th>\n",
              "      <td>Female</td>\n",
              "      <td>53</td>\n",
              "      <td>0</td>\n",
              "      <td>0</td>\n",
              "      <td>never</td>\n",
              "      <td>27.32</td>\n",
              "      <td>6.6</td>\n",
              "      <td>155</td>\n",
              "      <td>1</td>\n",
              "    </tr>\n",
              "    <tr>\n",
              "      <th>3531</th>\n",
              "      <td>Female</td>\n",
              "      <td>80</td>\n",
              "      <td>0</td>\n",
              "      <td>0</td>\n",
              "      <td>never</td>\n",
              "      <td>27.32</td>\n",
              "      <td>8.2</td>\n",
              "      <td>280</td>\n",
              "      <td>1</td>\n",
              "    </tr>\n",
              "    <tr>\n",
              "      <th>3675</th>\n",
              "      <td>Male</td>\n",
              "      <td>80</td>\n",
              "      <td>0</td>\n",
              "      <td>0</td>\n",
              "      <td>No Info</td>\n",
              "      <td>27.32</td>\n",
              "      <td>5.7</td>\n",
              "      <td>90</td>\n",
              "      <td>0</td>\n",
              "    </tr>\n",
              "    <tr>\n",
              "      <th>3828</th>\n",
              "      <td>Female</td>\n",
              "      <td>22</td>\n",
              "      <td>0</td>\n",
              "      <td>0</td>\n",
              "      <td>No Info</td>\n",
              "      <td>27.32</td>\n",
              "      <td>5.7</td>\n",
              "      <td>126</td>\n",
              "      <td>0</td>\n",
              "    </tr>\n",
              "    <tr>\n",
              "      <th>4401</th>\n",
              "      <td>Female</td>\n",
              "      <td>80</td>\n",
              "      <td>0</td>\n",
              "      <td>0</td>\n",
              "      <td>No Info</td>\n",
              "      <td>27.32</td>\n",
              "      <td>8.8</td>\n",
              "      <td>240</td>\n",
              "      <td>1</td>\n",
              "    </tr>\n",
              "    <tr>\n",
              "      <th>5014</th>\n",
              "      <td>Male</td>\n",
              "      <td>38</td>\n",
              "      <td>0</td>\n",
              "      <td>0</td>\n",
              "      <td>No Info</td>\n",
              "      <td>27.32</td>\n",
              "      <td>6.5</td>\n",
              "      <td>130</td>\n",
              "      <td>0</td>\n",
              "    </tr>\n",
              "    <tr>\n",
              "      <th>5108</th>\n",
              "      <td>Female</td>\n",
              "      <td>65</td>\n",
              "      <td>0</td>\n",
              "      <td>0</td>\n",
              "      <td>No Info</td>\n",
              "      <td>27.32</td>\n",
              "      <td>4.0</td>\n",
              "      <td>85</td>\n",
              "      <td>0</td>\n",
              "    </tr>\n",
              "    <tr>\n",
              "      <th>5728</th>\n",
              "      <td>Female</td>\n",
              "      <td>80</td>\n",
              "      <td>0</td>\n",
              "      <td>0</td>\n",
              "      <td>No Info</td>\n",
              "      <td>27.32</td>\n",
              "      <td>8.8</td>\n",
              "      <td>240</td>\n",
              "      <td>1</td>\n",
              "    </tr>\n",
              "    <tr>\n",
              "      <th>5766</th>\n",
              "      <td>Female</td>\n",
              "      <td>53</td>\n",
              "      <td>0</td>\n",
              "      <td>0</td>\n",
              "      <td>never</td>\n",
              "      <td>27.32</td>\n",
              "      <td>6.6</td>\n",
              "      <td>155</td>\n",
              "      <td>1</td>\n",
              "    </tr>\n",
              "    <tr>\n",
              "      <th>5844</th>\n",
              "      <td>Female</td>\n",
              "      <td>62</td>\n",
              "      <td>0</td>\n",
              "      <td>0</td>\n",
              "      <td>never</td>\n",
              "      <td>27.32</td>\n",
              "      <td>4.0</td>\n",
              "      <td>159</td>\n",
              "      <td>0</td>\n",
              "    </tr>\n",
              "    <tr>\n",
              "      <th>5906</th>\n",
              "      <td>Female</td>\n",
              "      <td>80</td>\n",
              "      <td>0</td>\n",
              "      <td>0</td>\n",
              "      <td>never</td>\n",
              "      <td>27.32</td>\n",
              "      <td>8.2</td>\n",
              "      <td>280</td>\n",
              "      <td>1</td>\n",
              "    </tr>\n",
              "    <tr>\n",
              "      <th>6058</th>\n",
              "      <td>Female</td>\n",
              "      <td>42</td>\n",
              "      <td>0</td>\n",
              "      <td>0</td>\n",
              "      <td>No Info</td>\n",
              "      <td>27.32</td>\n",
              "      <td>5.8</td>\n",
              "      <td>200</td>\n",
              "      <td>0</td>\n",
              "    </tr>\n",
              "    <tr>\n",
              "      <th>6200</th>\n",
              "      <td>Female</td>\n",
              "      <td>80</td>\n",
              "      <td>0</td>\n",
              "      <td>0</td>\n",
              "      <td>No Info</td>\n",
              "      <td>27.32</td>\n",
              "      <td>9.0</td>\n",
              "      <td>220</td>\n",
              "      <td>1</td>\n",
              "    </tr>\n",
              "    <tr>\n",
              "      <th>6209</th>\n",
              "      <td>Female</td>\n",
              "      <td>47</td>\n",
              "      <td>0</td>\n",
              "      <td>0</td>\n",
              "      <td>No Info</td>\n",
              "      <td>27.32</td>\n",
              "      <td>4.0</td>\n",
              "      <td>100</td>\n",
              "      <td>0</td>\n",
              "    </tr>\n",
              "    <tr>\n",
              "      <th>6370</th>\n",
              "      <td>Female</td>\n",
              "      <td>62</td>\n",
              "      <td>0</td>\n",
              "      <td>0</td>\n",
              "      <td>never</td>\n",
              "      <td>27.32</td>\n",
              "      <td>4.0</td>\n",
              "      <td>159</td>\n",
              "      <td>0</td>\n",
              "    </tr>\n",
              "    <tr>\n",
              "      <th>6447</th>\n",
              "      <td>Male</td>\n",
              "      <td>47</td>\n",
              "      <td>0</td>\n",
              "      <td>0</td>\n",
              "      <td>No Info</td>\n",
              "      <td>27.32</td>\n",
              "      <td>5.8</td>\n",
              "      <td>155</td>\n",
              "      <td>0</td>\n",
              "    </tr>\n",
              "    <tr>\n",
              "      <th>7033</th>\n",
              "      <td>Female</td>\n",
              "      <td>36</td>\n",
              "      <td>0</td>\n",
              "      <td>0</td>\n",
              "      <td>No Info</td>\n",
              "      <td>27.32</td>\n",
              "      <td>6.6</td>\n",
              "      <td>130</td>\n",
              "      <td>0</td>\n",
              "    </tr>\n",
              "    <tr>\n",
              "      <th>7184</th>\n",
              "      <td>Male</td>\n",
              "      <td>38</td>\n",
              "      <td>0</td>\n",
              "      <td>0</td>\n",
              "      <td>No Info</td>\n",
              "      <td>27.32</td>\n",
              "      <td>6.5</td>\n",
              "      <td>130</td>\n",
              "      <td>0</td>\n",
              "    </tr>\n",
              "    <tr>\n",
              "      <th>8332</th>\n",
              "      <td>Female</td>\n",
              "      <td>42</td>\n",
              "      <td>0</td>\n",
              "      <td>0</td>\n",
              "      <td>No Info</td>\n",
              "      <td>27.32</td>\n",
              "      <td>5.8</td>\n",
              "      <td>200</td>\n",
              "      <td>0</td>\n",
              "    </tr>\n",
              "    <tr>\n",
              "      <th>8347</th>\n",
              "      <td>Female</td>\n",
              "      <td>80</td>\n",
              "      <td>0</td>\n",
              "      <td>0</td>\n",
              "      <td>never</td>\n",
              "      <td>27.32</td>\n",
              "      <td>8.2</td>\n",
              "      <td>280</td>\n",
              "      <td>1</td>\n",
              "    </tr>\n",
              "    <tr>\n",
              "      <th>8608</th>\n",
              "      <td>Female</td>\n",
              "      <td>80</td>\n",
              "      <td>0</td>\n",
              "      <td>0</td>\n",
              "      <td>never</td>\n",
              "      <td>27.32</td>\n",
              "      <td>6.5</td>\n",
              "      <td>160</td>\n",
              "      <td>0</td>\n",
              "    </tr>\n",
              "    <tr>\n",
              "      <th>8857</th>\n",
              "      <td>Female</td>\n",
              "      <td>80</td>\n",
              "      <td>0</td>\n",
              "      <td>0</td>\n",
              "      <td>No Info</td>\n",
              "      <td>27.32</td>\n",
              "      <td>6.2</td>\n",
              "      <td>90</td>\n",
              "      <td>0</td>\n",
              "    </tr>\n",
              "    <tr>\n",
              "      <th>8877</th>\n",
              "      <td>Male</td>\n",
              "      <td>49</td>\n",
              "      <td>0</td>\n",
              "      <td>0</td>\n",
              "      <td>never</td>\n",
              "      <td>27.32</td>\n",
              "      <td>6.2</td>\n",
              "      <td>240</td>\n",
              "      <td>1</td>\n",
              "    </tr>\n",
              "    <tr>\n",
              "      <th>8941</th>\n",
              "      <td>Male</td>\n",
              "      <td>38</td>\n",
              "      <td>0</td>\n",
              "      <td>0</td>\n",
              "      <td>No Info</td>\n",
              "      <td>31.85</td>\n",
              "      <td>5.7</td>\n",
              "      <td>220</td>\n",
              "      <td>1</td>\n",
              "    </tr>\n",
              "    <tr>\n",
              "      <th>9181</th>\n",
              "      <td>Male</td>\n",
              "      <td>66</td>\n",
              "      <td>0</td>\n",
              "      <td>0</td>\n",
              "      <td>No Info</td>\n",
              "      <td>27.32</td>\n",
              "      <td>5.7</td>\n",
              "      <td>130</td>\n",
              "      <td>1</td>\n",
              "    </tr>\n",
              "    <tr>\n",
              "      <th>9729</th>\n",
              "      <td>Male</td>\n",
              "      <td>53</td>\n",
              "      <td>0</td>\n",
              "      <td>0</td>\n",
              "      <td>No Info</td>\n",
              "      <td>27.32</td>\n",
              "      <td>4.5</td>\n",
              "      <td>100</td>\n",
              "      <td>0</td>\n",
              "    </tr>\n",
              "    <tr>\n",
              "      <th>9847</th>\n",
              "      <td>Female</td>\n",
              "      <td>80</td>\n",
              "      <td>0</td>\n",
              "      <td>0</td>\n",
              "      <td>No Info</td>\n",
              "      <td>27.32</td>\n",
              "      <td>6.2</td>\n",
              "      <td>90</td>\n",
              "      <td>0</td>\n",
              "    </tr>\n",
              "  </tbody>\n",
              "</table>\n",
              "</div>"
            ],
            "text/plain": [
              "      gender  age  hypertension  heart_disease smoking_history    bmi  \\\n",
              "531     Male   38             0              0         No Info  31.85   \n",
              "691     Male   80             0              0         No Info  27.32   \n",
              "952     Male   47             0              0         No Info  27.32   \n",
              "954   Female   36             0              0         No Info  27.32   \n",
              "1161  Female   22             0              0         No Info  27.32   \n",
              "1198  Female   76             0              0         No Info  27.32   \n",
              "1303  Female   80             0              0           never  27.32   \n",
              "1577    Male   66             0              0         No Info  27.32   \n",
              "2107  Female   65             0              0         No Info  27.32   \n",
              "2419  Female   47             0              0         No Info  27.32   \n",
              "2474    Male   53             0              0         No Info  27.32   \n",
              "2488    Male   49             0              0           never  27.32   \n",
              "2519  Female   80             0              0         No Info  27.32   \n",
              "2815  Female   76             0              0         No Info  27.32   \n",
              "3038  Female   53             0              0           never  27.32   \n",
              "3531  Female   80             0              0           never  27.32   \n",
              "3675    Male   80             0              0         No Info  27.32   \n",
              "3828  Female   22             0              0         No Info  27.32   \n",
              "4401  Female   80             0              0         No Info  27.32   \n",
              "5014    Male   38             0              0         No Info  27.32   \n",
              "5108  Female   65             0              0         No Info  27.32   \n",
              "5728  Female   80             0              0         No Info  27.32   \n",
              "5766  Female   53             0              0           never  27.32   \n",
              "5844  Female   62             0              0           never  27.32   \n",
              "5906  Female   80             0              0           never  27.32   \n",
              "6058  Female   42             0              0         No Info  27.32   \n",
              "6200  Female   80             0              0         No Info  27.32   \n",
              "6209  Female   47             0              0         No Info  27.32   \n",
              "6370  Female   62             0              0           never  27.32   \n",
              "6447    Male   47             0              0         No Info  27.32   \n",
              "7033  Female   36             0              0         No Info  27.32   \n",
              "7184    Male   38             0              0         No Info  27.32   \n",
              "8332  Female   42             0              0         No Info  27.32   \n",
              "8347  Female   80             0              0           never  27.32   \n",
              "8608  Female   80             0              0           never  27.32   \n",
              "8857  Female   80             0              0         No Info  27.32   \n",
              "8877    Male   49             0              0           never  27.32   \n",
              "8941    Male   38             0              0         No Info  31.85   \n",
              "9181    Male   66             0              0         No Info  27.32   \n",
              "9729    Male   53             0              0         No Info  27.32   \n",
              "9847  Female   80             0              0         No Info  27.32   \n",
              "\n",
              "      HbA1c_level  blood_glucose_level  diabetes  \n",
              "531           5.7                  220         1  \n",
              "691           5.7                   90         0  \n",
              "952           5.8                  155         0  \n",
              "954           6.6                  130         0  \n",
              "1161          5.7                  126         0  \n",
              "1198          6.2                  260         1  \n",
              "1303          6.5                  160         0  \n",
              "1577          5.7                  130         1  \n",
              "2107          4.0                   85         0  \n",
              "2419          4.0                  100         0  \n",
              "2474          4.5                  100         0  \n",
              "2488          6.2                  240         1  \n",
              "2519          9.0                  220         1  \n",
              "2815          6.2                  260         1  \n",
              "3038          6.6                  155         1  \n",
              "3531          8.2                  280         1  \n",
              "3675          5.7                   90         0  \n",
              "3828          5.7                  126         0  \n",
              "4401          8.8                  240         1  \n",
              "5014          6.5                  130         0  \n",
              "5108          4.0                   85         0  \n",
              "5728          8.8                  240         1  \n",
              "5766          6.6                  155         1  \n",
              "5844          4.0                  159         0  \n",
              "5906          8.2                  280         1  \n",
              "6058          5.8                  200         0  \n",
              "6200          9.0                  220         1  \n",
              "6209          4.0                  100         0  \n",
              "6370          4.0                  159         0  \n",
              "6447          5.8                  155         0  \n",
              "7033          6.6                  130         0  \n",
              "7184          6.5                  130         0  \n",
              "8332          5.8                  200         0  \n",
              "8347          8.2                  280         1  \n",
              "8608          6.5                  160         0  \n",
              "8857          6.2                   90         0  \n",
              "8877          6.2                  240         1  \n",
              "8941          5.7                  220         1  \n",
              "9181          5.7                  130         1  \n",
              "9729          4.5                  100         0  \n",
              "9847          6.2                   90         0  "
            ]
          },
          "execution_count": 22,
          "metadata": {},
          "output_type": "execute_result"
        }
      ],
      "source": [
        "# checking for count of duplicate values\n",
        "print(\"duplicates count before:\" , df_raw_adults.duplicated().sum()) \n",
        "\n",
        "# checking for all occurances of duplicates \n",
        "duplicates = df_raw_adults[df_raw_adults.duplicated(keep=False)]     \n",
        "duplicates"
      ]
    },
    {
      "cell_type": "markdown",
      "metadata": {},
      "source": [
        "* I have inspected for the duplicate records and they are the exact same records. So I will keep the first occurence and drop the rest."
      ]
    },
    {
      "cell_type": "code",
      "execution_count": 23,
      "metadata": {},
      "outputs": [
        {
          "data": {
            "text/html": [
              "<div>\n",
              "<style scoped>\n",
              "    .dataframe tbody tr th:only-of-type {\n",
              "        vertical-align: middle;\n",
              "    }\n",
              "\n",
              "    .dataframe tbody tr th {\n",
              "        vertical-align: top;\n",
              "    }\n",
              "\n",
              "    .dataframe thead th {\n",
              "        text-align: right;\n",
              "    }\n",
              "</style>\n",
              "<table border=\"1\" class=\"dataframe\">\n",
              "  <thead>\n",
              "    <tr style=\"text-align: right;\">\n",
              "      <th></th>\n",
              "      <th>gender</th>\n",
              "      <th>age</th>\n",
              "      <th>hypertension</th>\n",
              "      <th>heart_disease</th>\n",
              "      <th>smoking_history</th>\n",
              "      <th>bmi</th>\n",
              "      <th>HbA1c_level</th>\n",
              "      <th>blood_glucose_level</th>\n",
              "      <th>diabetes</th>\n",
              "    </tr>\n",
              "  </thead>\n",
              "  <tbody>\n",
              "    <tr>\n",
              "      <th>0</th>\n",
              "      <td>Male</td>\n",
              "      <td>80</td>\n",
              "      <td>0</td>\n",
              "      <td>0</td>\n",
              "      <td>former</td>\n",
              "      <td>26.40</td>\n",
              "      <td>8.2</td>\n",
              "      <td>126</td>\n",
              "      <td>1</td>\n",
              "    </tr>\n",
              "    <tr>\n",
              "      <th>1</th>\n",
              "      <td>Female</td>\n",
              "      <td>47</td>\n",
              "      <td>0</td>\n",
              "      <td>0</td>\n",
              "      <td>never</td>\n",
              "      <td>45.88</td>\n",
              "      <td>4.0</td>\n",
              "      <td>159</td>\n",
              "      <td>0</td>\n",
              "    </tr>\n",
              "    <tr>\n",
              "      <th>2</th>\n",
              "      <td>Female</td>\n",
              "      <td>26</td>\n",
              "      <td>0</td>\n",
              "      <td>0</td>\n",
              "      <td>not current</td>\n",
              "      <td>27.32</td>\n",
              "      <td>6.0</td>\n",
              "      <td>130</td>\n",
              "      <td>0</td>\n",
              "    </tr>\n",
              "    <tr>\n",
              "      <th>3</th>\n",
              "      <td>Male</td>\n",
              "      <td>80</td>\n",
              "      <td>0</td>\n",
              "      <td>0</td>\n",
              "      <td>No Info</td>\n",
              "      <td>27.32</td>\n",
              "      <td>7.5</td>\n",
              "      <td>160</td>\n",
              "      <td>1</td>\n",
              "    </tr>\n",
              "    <tr>\n",
              "      <th>4</th>\n",
              "      <td>Male</td>\n",
              "      <td>57</td>\n",
              "      <td>0</td>\n",
              "      <td>0</td>\n",
              "      <td>No Info</td>\n",
              "      <td>27.32</td>\n",
              "      <td>5.8</td>\n",
              "      <td>158</td>\n",
              "      <td>0</td>\n",
              "    </tr>\n",
              "  </tbody>\n",
              "</table>\n",
              "</div>"
            ],
            "text/plain": [
              "   gender  age  hypertension  heart_disease smoking_history    bmi  \\\n",
              "0    Male   80             0              0          former  26.40   \n",
              "1  Female   47             0              0           never  45.88   \n",
              "2  Female   26             0              0     not current  27.32   \n",
              "3    Male   80             0              0         No Info  27.32   \n",
              "4    Male   57             0              0         No Info  27.32   \n",
              "\n",
              "   HbA1c_level  blood_glucose_level  diabetes  \n",
              "0          8.2                  126         1  \n",
              "1          4.0                  159         0  \n",
              "2          6.0                  130         0  \n",
              "3          7.5                  160         1  \n",
              "4          5.8                  158         0  "
            ]
          },
          "execution_count": 23,
          "metadata": {},
          "output_type": "execute_result"
        }
      ],
      "source": [
        "# removing duplicates by keeping the first occurence and dropping the rest.\n",
        "\n",
        "df_cleaned = df_raw_adults.drop_duplicates(keep='first').reset_index(drop=True)\n",
        "df_cleaned.head()"
      ]
    },
    {
      "cell_type": "code",
      "execution_count": 24,
      "metadata": {},
      "outputs": [
        {
          "name": "stdout",
          "output_type": "stream",
          "text": [
            "duplicates count after: 0\n"
          ]
        }
      ],
      "source": [
        "# checking for count of duplicate values post removal of duplicates\n",
        "\n",
        "print(\"duplicates count after:\" , df_cleaned.duplicated().sum()) \n"
      ]
    },
    {
      "cell_type": "markdown",
      "metadata": {},
      "source": [
        "#### checking for cardinality and unique values of categorical columns"
      ]
    },
    {
      "cell_type": "code",
      "execution_count": 25,
      "metadata": {},
      "outputs": [
        {
          "name": "stdout",
          "output_type": "stream",
          "text": [
            "gender cardinality: 3\n",
            "gender unique values: ['Male' 'Female' 'Other']\n",
            "gender unique value counts:\n",
            " gender\n",
            "Female    5145\n",
            "Male      3897\n",
            "Other        1\n",
            "Name: count, dtype: int64\n",
            "\n",
            "\n",
            "smoking_history cardinality: 6\n",
            "smoking_history unique values: ['former' 'never' 'not current' 'No Info' 'ever' 'current']\n",
            "smoking_history unique value counts:\n",
            " smoking_history\n",
            "never          3535\n",
            "No Info        2026\n",
            "former         1352\n",
            "current         988\n",
            "not current     685\n",
            "ever            457\n",
            "Name: count, dtype: int64\n",
            "\n",
            "\n"
          ]
        }
      ],
      "source": [
        "# checking for cardinality and unique values of the category columns\n",
        "categorical_columns = ['gender', 'smoking_history']\n",
        "for col in categorical_columns:\n",
        "    print(f\"{col} cardinality: {df_cleaned[col].nunique()}\")\n",
        "    print(f\"{col} unique values:\", df_cleaned[col].unique())\n",
        "    print(f\"{col} unique value counts:\\n\", df_cleaned[col].value_counts())\n",
        "    print(\"\\n\")"
      ]
    },
    {
      "cell_type": "markdown",
      "metadata": {},
      "source": [
        "* Since other category in gender is only 1 record, decided to remove that record.\n",
        "* Will keep the different categories in smoking_history as is for now. Further analysis will be done in the EDA notebook to see if any grouping is needed."
      ]
    },
    {
      "cell_type": "code",
      "execution_count": 26,
      "metadata": {},
      "outputs": [
        {
          "data": {
            "text/html": [
              "<div>\n",
              "<style scoped>\n",
              "    .dataframe tbody tr th:only-of-type {\n",
              "        vertical-align: middle;\n",
              "    }\n",
              "\n",
              "    .dataframe tbody tr th {\n",
              "        vertical-align: top;\n",
              "    }\n",
              "\n",
              "    .dataframe thead th {\n",
              "        text-align: right;\n",
              "    }\n",
              "</style>\n",
              "<table border=\"1\" class=\"dataframe\">\n",
              "  <thead>\n",
              "    <tr style=\"text-align: right;\">\n",
              "      <th></th>\n",
              "      <th>gender</th>\n",
              "      <th>age</th>\n",
              "      <th>hypertension</th>\n",
              "      <th>heart_disease</th>\n",
              "      <th>smoking_history</th>\n",
              "      <th>bmi</th>\n",
              "      <th>HbA1c_level</th>\n",
              "      <th>blood_glucose_level</th>\n",
              "      <th>diabetes</th>\n",
              "    </tr>\n",
              "  </thead>\n",
              "  <tbody>\n",
              "    <tr>\n",
              "      <th>0</th>\n",
              "      <td>Male</td>\n",
              "      <td>80</td>\n",
              "      <td>0</td>\n",
              "      <td>0</td>\n",
              "      <td>former</td>\n",
              "      <td>26.40</td>\n",
              "      <td>8.2</td>\n",
              "      <td>126</td>\n",
              "      <td>1</td>\n",
              "    </tr>\n",
              "    <tr>\n",
              "      <th>1</th>\n",
              "      <td>Female</td>\n",
              "      <td>47</td>\n",
              "      <td>0</td>\n",
              "      <td>0</td>\n",
              "      <td>never</td>\n",
              "      <td>45.88</td>\n",
              "      <td>4.0</td>\n",
              "      <td>159</td>\n",
              "      <td>0</td>\n",
              "    </tr>\n",
              "    <tr>\n",
              "      <th>2</th>\n",
              "      <td>Female</td>\n",
              "      <td>26</td>\n",
              "      <td>0</td>\n",
              "      <td>0</td>\n",
              "      <td>not current</td>\n",
              "      <td>27.32</td>\n",
              "      <td>6.0</td>\n",
              "      <td>130</td>\n",
              "      <td>0</td>\n",
              "    </tr>\n",
              "    <tr>\n",
              "      <th>3</th>\n",
              "      <td>Male</td>\n",
              "      <td>80</td>\n",
              "      <td>0</td>\n",
              "      <td>0</td>\n",
              "      <td>No Info</td>\n",
              "      <td>27.32</td>\n",
              "      <td>7.5</td>\n",
              "      <td>160</td>\n",
              "      <td>1</td>\n",
              "    </tr>\n",
              "    <tr>\n",
              "      <th>4</th>\n",
              "      <td>Male</td>\n",
              "      <td>57</td>\n",
              "      <td>0</td>\n",
              "      <td>0</td>\n",
              "      <td>No Info</td>\n",
              "      <td>27.32</td>\n",
              "      <td>5.8</td>\n",
              "      <td>158</td>\n",
              "      <td>0</td>\n",
              "    </tr>\n",
              "  </tbody>\n",
              "</table>\n",
              "</div>"
            ],
            "text/plain": [
              "   gender  age  hypertension  heart_disease smoking_history    bmi  \\\n",
              "0    Male   80             0              0          former  26.40   \n",
              "1  Female   47             0              0           never  45.88   \n",
              "2  Female   26             0              0     not current  27.32   \n",
              "3    Male   80             0              0         No Info  27.32   \n",
              "4    Male   57             0              0         No Info  27.32   \n",
              "\n",
              "   HbA1c_level  blood_glucose_level  diabetes  \n",
              "0          8.2                  126         1  \n",
              "1          4.0                  159         0  \n",
              "2          6.0                  130         0  \n",
              "3          7.5                  160         1  \n",
              "4          5.8                  158         0  "
            ]
          },
          "execution_count": 26,
          "metadata": {},
          "output_type": "execute_result"
        }
      ],
      "source": [
        "# remove the record with gender - 'Other' since it is only 1 record\n",
        "\n",
        "df_cleaned = df_cleaned[df_cleaned['gender'] != 'Other'].reset_index(drop=True)\n",
        "df_cleaned.head()"
      ]
    },
    {
      "cell_type": "code",
      "execution_count": 27,
      "metadata": {},
      "outputs": [
        {
          "data": {
            "text/plain": [
              "array(['Male', 'Female'], dtype=object)"
            ]
          },
          "execution_count": 27,
          "metadata": {},
          "output_type": "execute_result"
        }
      ],
      "source": [
        "# checking for the unique values in gender column to confirm removal of 'Other' category\n",
        "\n",
        "df_cleaned['gender'].unique()"
      ]
    },
    {
      "cell_type": "markdown",
      "metadata": {},
      "source": [
        "* Use .describe() method to get statistical summary of numerical columns to check for any anomalies or outliers."
      ]
    },
    {
      "cell_type": "code",
      "execution_count": 28,
      "metadata": {},
      "outputs": [
        {
          "data": {
            "text/html": [
              "<div>\n",
              "<style scoped>\n",
              "    .dataframe tbody tr th:only-of-type {\n",
              "        vertical-align: middle;\n",
              "    }\n",
              "\n",
              "    .dataframe tbody tr th {\n",
              "        vertical-align: top;\n",
              "    }\n",
              "\n",
              "    .dataframe thead th {\n",
              "        text-align: right;\n",
              "    }\n",
              "</style>\n",
              "<table border=\"1\" class=\"dataframe\">\n",
              "  <thead>\n",
              "    <tr style=\"text-align: right;\">\n",
              "      <th></th>\n",
              "      <th>count</th>\n",
              "      <th>mean</th>\n",
              "      <th>std</th>\n",
              "      <th>min</th>\n",
              "      <th>25%</th>\n",
              "      <th>50%</th>\n",
              "      <th>75%</th>\n",
              "      <th>max</th>\n",
              "    </tr>\n",
              "  </thead>\n",
              "  <tbody>\n",
              "    <tr>\n",
              "      <th>age</th>\n",
              "      <td>9042.0</td>\n",
              "      <td>54.966158</td>\n",
              "      <td>17.211084</td>\n",
              "      <td>18.00</td>\n",
              "      <td>42.0000</td>\n",
              "      <td>57.000</td>\n",
              "      <td>69.0000</td>\n",
              "      <td>80.00</td>\n",
              "    </tr>\n",
              "    <tr>\n",
              "      <th>hypertension</th>\n",
              "      <td>9042.0</td>\n",
              "      <td>0.164455</td>\n",
              "      <td>0.370708</td>\n",
              "      <td>0.00</td>\n",
              "      <td>0.0000</td>\n",
              "      <td>0.000</td>\n",
              "      <td>0.0000</td>\n",
              "      <td>1.00</td>\n",
              "    </tr>\n",
              "    <tr>\n",
              "      <th>heart_disease</th>\n",
              "      <td>9042.0</td>\n",
              "      <td>0.095665</td>\n",
              "      <td>0.294147</td>\n",
              "      <td>0.00</td>\n",
              "      <td>0.0000</td>\n",
              "      <td>0.000</td>\n",
              "      <td>0.0000</td>\n",
              "      <td>1.00</td>\n",
              "    </tr>\n",
              "    <tr>\n",
              "      <th>bmi</th>\n",
              "      <td>9042.0</td>\n",
              "      <td>30.372424</td>\n",
              "      <td>7.090530</td>\n",
              "      <td>10.98</td>\n",
              "      <td>27.0625</td>\n",
              "      <td>27.535</td>\n",
              "      <td>33.4775</td>\n",
              "      <td>88.72</td>\n",
              "    </tr>\n",
              "    <tr>\n",
              "      <th>HbA1c_level</th>\n",
              "      <td>9042.0</td>\n",
              "      <td>6.243696</td>\n",
              "      <td>1.295101</td>\n",
              "      <td>3.50</td>\n",
              "      <td>5.7000</td>\n",
              "      <td>6.100</td>\n",
              "      <td>6.8000</td>\n",
              "      <td>9.00</td>\n",
              "    </tr>\n",
              "    <tr>\n",
              "      <th>blood_glucose_level</th>\n",
              "      <td>9042.0</td>\n",
              "      <td>166.425680</td>\n",
              "      <td>57.781870</td>\n",
              "      <td>80.00</td>\n",
              "      <td>130.0000</td>\n",
              "      <td>155.000</td>\n",
              "      <td>200.0000</td>\n",
              "      <td>300.00</td>\n",
              "    </tr>\n",
              "    <tr>\n",
              "      <th>diabetes</th>\n",
              "      <td>9042.0</td>\n",
              "      <td>0.547003</td>\n",
              "      <td>0.497813</td>\n",
              "      <td>0.00</td>\n",
              "      <td>0.0000</td>\n",
              "      <td>1.000</td>\n",
              "      <td>1.0000</td>\n",
              "      <td>1.00</td>\n",
              "    </tr>\n",
              "  </tbody>\n",
              "</table>\n",
              "</div>"
            ],
            "text/plain": [
              "                      count        mean        std    min       25%      50%  \\\n",
              "age                  9042.0   54.966158  17.211084  18.00   42.0000   57.000   \n",
              "hypertension         9042.0    0.164455   0.370708   0.00    0.0000    0.000   \n",
              "heart_disease        9042.0    0.095665   0.294147   0.00    0.0000    0.000   \n",
              "bmi                  9042.0   30.372424   7.090530  10.98   27.0625   27.535   \n",
              "HbA1c_level          9042.0    6.243696   1.295101   3.50    5.7000    6.100   \n",
              "blood_glucose_level  9042.0  166.425680  57.781870  80.00  130.0000  155.000   \n",
              "diabetes             9042.0    0.547003   0.497813   0.00    0.0000    1.000   \n",
              "\n",
              "                          75%     max  \n",
              "age                   69.0000   80.00  \n",
              "hypertension           0.0000    1.00  \n",
              "heart_disease          0.0000    1.00  \n",
              "bmi                   33.4775   88.72  \n",
              "HbA1c_level            6.8000    9.00  \n",
              "blood_glucose_level  200.0000  300.00  \n",
              "diabetes               1.0000    1.00  "
            ]
          },
          "execution_count": 28,
          "metadata": {},
          "output_type": "execute_result"
        }
      ],
      "source": [
        "df_cleaned.describe().T"
      ]
    },
    {
      "cell_type": "markdown",
      "metadata": {},
      "source": [
        "* The describe() here will be explained in detail in the EDA notebook. We are just checking for a snippet of the data stats."
      ]
    },
    {
      "cell_type": "markdown",
      "metadata": {},
      "source": [
        "#### Final check of the cleaned data"
      ]
    },
    {
      "cell_type": "code",
      "execution_count": 29,
      "metadata": {},
      "outputs": [
        {
          "data": {
            "text/html": [
              "<div>\n",
              "<style scoped>\n",
              "    .dataframe tbody tr th:only-of-type {\n",
              "        vertical-align: middle;\n",
              "    }\n",
              "\n",
              "    .dataframe tbody tr th {\n",
              "        vertical-align: top;\n",
              "    }\n",
              "\n",
              "    .dataframe thead th {\n",
              "        text-align: right;\n",
              "    }\n",
              "</style>\n",
              "<table border=\"1\" class=\"dataframe\">\n",
              "  <thead>\n",
              "    <tr style=\"text-align: right;\">\n",
              "      <th></th>\n",
              "      <th>gender</th>\n",
              "      <th>age</th>\n",
              "      <th>hypertension</th>\n",
              "      <th>heart_disease</th>\n",
              "      <th>smoking_history</th>\n",
              "      <th>bmi</th>\n",
              "      <th>HbA1c_level</th>\n",
              "      <th>blood_glucose_level</th>\n",
              "      <th>diabetes</th>\n",
              "    </tr>\n",
              "  </thead>\n",
              "  <tbody>\n",
              "    <tr>\n",
              "      <th>0</th>\n",
              "      <td>Male</td>\n",
              "      <td>80</td>\n",
              "      <td>0</td>\n",
              "      <td>0</td>\n",
              "      <td>former</td>\n",
              "      <td>26.40</td>\n",
              "      <td>8.2</td>\n",
              "      <td>126</td>\n",
              "      <td>1</td>\n",
              "    </tr>\n",
              "    <tr>\n",
              "      <th>1</th>\n",
              "      <td>Female</td>\n",
              "      <td>47</td>\n",
              "      <td>0</td>\n",
              "      <td>0</td>\n",
              "      <td>never</td>\n",
              "      <td>45.88</td>\n",
              "      <td>4.0</td>\n",
              "      <td>159</td>\n",
              "      <td>0</td>\n",
              "    </tr>\n",
              "    <tr>\n",
              "      <th>2</th>\n",
              "      <td>Female</td>\n",
              "      <td>26</td>\n",
              "      <td>0</td>\n",
              "      <td>0</td>\n",
              "      <td>not current</td>\n",
              "      <td>27.32</td>\n",
              "      <td>6.0</td>\n",
              "      <td>130</td>\n",
              "      <td>0</td>\n",
              "    </tr>\n",
              "    <tr>\n",
              "      <th>3</th>\n",
              "      <td>Male</td>\n",
              "      <td>80</td>\n",
              "      <td>0</td>\n",
              "      <td>0</td>\n",
              "      <td>No Info</td>\n",
              "      <td>27.32</td>\n",
              "      <td>7.5</td>\n",
              "      <td>160</td>\n",
              "      <td>1</td>\n",
              "    </tr>\n",
              "    <tr>\n",
              "      <th>4</th>\n",
              "      <td>Male</td>\n",
              "      <td>57</td>\n",
              "      <td>0</td>\n",
              "      <td>0</td>\n",
              "      <td>No Info</td>\n",
              "      <td>27.32</td>\n",
              "      <td>5.8</td>\n",
              "      <td>158</td>\n",
              "      <td>0</td>\n",
              "    </tr>\n",
              "  </tbody>\n",
              "</table>\n",
              "</div>"
            ],
            "text/plain": [
              "   gender  age  hypertension  heart_disease smoking_history    bmi  \\\n",
              "0    Male   80             0              0          former  26.40   \n",
              "1  Female   47             0              0           never  45.88   \n",
              "2  Female   26             0              0     not current  27.32   \n",
              "3    Male   80             0              0         No Info  27.32   \n",
              "4    Male   57             0              0         No Info  27.32   \n",
              "\n",
              "   HbA1c_level  blood_glucose_level  diabetes  \n",
              "0          8.2                  126         1  \n",
              "1          4.0                  159         0  \n",
              "2          6.0                  130         0  \n",
              "3          7.5                  160         1  \n",
              "4          5.8                  158         0  "
            ]
          },
          "execution_count": 29,
          "metadata": {},
          "output_type": "execute_result"
        }
      ],
      "source": [
        "# checking the first few records of the cleaned dataframe\n",
        "df_cleaned.head()"
      ]
    },
    {
      "cell_type": "code",
      "execution_count": 30,
      "metadata": {},
      "outputs": [
        {
          "name": "stdout",
          "output_type": "stream",
          "text": [
            "<class 'pandas.core.frame.DataFrame'>\n",
            "RangeIndex: 9042 entries, 0 to 9041\n",
            "Data columns (total 9 columns):\n",
            " #   Column               Non-Null Count  Dtype  \n",
            "---  ------               --------------  -----  \n",
            " 0   gender               9042 non-null   object \n",
            " 1   age                  9042 non-null   int64  \n",
            " 2   hypertension         9042 non-null   int64  \n",
            " 3   heart_disease        9042 non-null   int64  \n",
            " 4   smoking_history      9042 non-null   object \n",
            " 5   bmi                  9042 non-null   float64\n",
            " 6   HbA1c_level          9042 non-null   float64\n",
            " 7   blood_glucose_level  9042 non-null   int64  \n",
            " 8   diabetes             9042 non-null   int64  \n",
            "dtypes: float64(2), int64(5), object(2)\n",
            "memory usage: 635.9+ KB\n"
          ]
        }
      ],
      "source": [
        "# checking the .info() of the cleaned dataframe to confirm no nulls and correct data types\n",
        "\n",
        "df_cleaned.info()"
      ]
    },
    {
      "cell_type": "code",
      "execution_count": 31,
      "metadata": {},
      "outputs": [
        {
          "name": "stdout",
          "output_type": "stream",
          "text": [
            "diabetes\n",
            "1    4946\n",
            "0    4096\n",
            "Name: count, dtype: int64\n"
          ]
        }
      ],
      "source": [
        "# checking for value counts of target class to confirm balance\n",
        "\n",
        "print(df_cleaned['diabetes'].value_counts())\n"
      ]
    },
    {
      "cell_type": "markdown",
      "metadata": {},
      "source": [
        "* With no nulls, no duplicates, no invalid data types and no unwanted records, and relatively balanced target variable -- the dataset is now clean and ready for EDA and further transformations."
      ]
    },
    {
      "cell_type": "markdown",
      "metadata": {},
      "source": [
        "# LOAD"
      ]
    },
    {
      "cell_type": "markdown",
      "metadata": {},
      "source": [
        "---"
      ]
    },
    {
      "cell_type": "markdown",
      "metadata": {},
      "source": [
        "* In this section we will save/load the cleaned dataframe to cleaned_diabetes_data.csv file located in the cleaned folder(Mian folder - Data)."
      ]
    },
    {
      "cell_type": "code",
      "execution_count": 32,
      "metadata": {},
      "outputs": [],
      "source": [
        "# loading the cleaned dataframe to new csv file.\n",
        "\n",
        "current_dir = os.getcwd()\n",
        "current_dir\n",
        "\n",
        "df_cleaned.to_csv('Data/cleaned/cleaned_diabetes_data.csv', index=False)"
      ]
    },
    {
      "cell_type": "markdown",
      "metadata": {},
      "source": [
        "---"
      ]
    },
    {
      "cell_type": "markdown",
      "metadata": {
        "id": "ltNetd085qHf"
      },
      "source": [
        "# Conclusion and Next Steps"
      ]
    },
    {
      "cell_type": "markdown",
      "metadata": {},
      "source": [
        "* With the cleaned dataset saved, the next steps will be to perform Exploratory Data Analysis (EDA) to understand the data better and identify patterns, trends, and relationships among the features.\n",
        "* Plot some visualizations to get insights into the data.\n",
        "* Perform some statistical testing to validate any hypotheses formed during EDA."
      ]
    }
  ],
  "metadata": {
    "accelerator": "GPU",
    "colab": {
      "name": "Data Practitioner Jupyter Notebook.ipynb",
      "provenance": [],
      "toc_visible": true
    },
    "kernelspec": {
      "display_name": "Python 3",
      "language": "python",
      "name": "python3"
    },
    "language_info": {
      "codemirror_mode": {
        "name": "ipython",
        "version": 3
      },
      "file_extension": ".py",
      "mimetype": "text/x-python",
      "name": "python",
      "nbconvert_exporter": "python",
      "pygments_lexer": "ipython3",
      "version": "3.12.1"
    },
    "orig_nbformat": 2
  },
  "nbformat": 4,
  "nbformat_minor": 2
}
