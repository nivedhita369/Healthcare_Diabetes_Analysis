{
  "cells": [
    {
      "cell_type": "markdown",
      "metadata": {
        "id": "0aStgWSO0E0E"
      },
      "source": [
        "# **This notebook handle Feature Engineering**"
      ]
    },
    {
      "cell_type": "markdown",
      "metadata": {
        "id": "1eLEkw5O0ECa"
      },
      "source": [
        "## Objectives\n",
        "\n",
        "* The objective of this notebook is to perform feature engineering on the healthcare diabetes dataset to prepare it for predictive modeling. \n",
        "* This includes creating new features, transforming existing ones, handling outliers, scaling .\n",
        "\n",
        "## Inputs\n",
        "\n",
        "* The input to this notebook is cleaned input file (cleaned_diabetes_data.csv) located in the data/cleaned directory.\n",
        "\n",
        "## Outputs\n",
        "\n",
        "* Write here which files, code or artefacts you generate by the end of the notebook \n",
        "\n",
        "## Additional Comments\n",
        "\n",
        "* If you have any additional comments that don't fit in the previous bullets, please state them here. \n",
        "\n"
      ]
    },
    {
      "cell_type": "markdown",
      "metadata": {
        "id": "9uWZXH9LwoQg"
      },
      "source": [
        "---"
      ]
    },
    {
      "cell_type": "markdown",
      "metadata": {
        "id": "cqP-UeN-z3i2"
      },
      "source": [
        "# Change working directory"
      ]
    },
    {
      "cell_type": "markdown",
      "metadata": {},
      "source": [
        "* We are assuming you will store the notebooks in a subfolder, therefore when running the notebook in the editor, you will need to change the working directory"
      ]
    },
    {
      "cell_type": "markdown",
      "metadata": {
        "id": "aOGIGS-uz3i2"
      },
      "source": [
        "We need to change the working directory from its current folder to its parent folder\n",
        "* We access the current directory with os.getcwd()"
      ]
    },
    {
      "cell_type": "code",
      "execution_count": 1,
      "metadata": {
        "id": "wZfF_j-Bz3i4",
        "outputId": "66943449-1436-4c3d-85c7-b85f9f78349b"
      },
      "outputs": [
        {
          "data": {
            "text/plain": [
              "'c:\\\\Users\\\\nived\\\\Desktop\\\\Nivya work learnings\\\\data analytics_ai\\\\Capstone\\\\Healthcare_Diabetes_Analysis\\\\jupyter_notebooks'"
            ]
          },
          "execution_count": 1,
          "metadata": {},
          "output_type": "execute_result"
        }
      ],
      "source": [
        "import os\n",
        "current_dir = os.getcwd()\n",
        "current_dir"
      ]
    },
    {
      "cell_type": "markdown",
      "metadata": {
        "id": "9MWW8E7lz3i7"
      },
      "source": [
        "We want to make the parent of the current directory the new current directory\n",
        "* os.path.dirname() gets the parent directory\n",
        "* os.chir() defines the new current directory"
      ]
    },
    {
      "cell_type": "code",
      "execution_count": 2,
      "metadata": {
        "id": "TwHsQRWjz3i9",
        "outputId": "86849db3-cd2f-4cc5-ebb8-2d0caafa1a2c"
      },
      "outputs": [
        {
          "name": "stdout",
          "output_type": "stream",
          "text": [
            "You set a new current directory\n"
          ]
        }
      ],
      "source": [
        "os.chdir(os.path.dirname(current_dir))\n",
        "print(\"You set a new current directory\")"
      ]
    },
    {
      "cell_type": "markdown",
      "metadata": {
        "id": "M_xPk_Ijz3i-"
      },
      "source": [
        "Confirm the new current directory"
      ]
    },
    {
      "cell_type": "code",
      "execution_count": 3,
      "metadata": {
        "id": "vz3S-_kjz3jA",
        "outputId": "00b79ae4-75d0-4a96-d193-ac9ef9847ea2"
      },
      "outputs": [
        {
          "data": {
            "text/plain": [
              "'c:\\\\Users\\\\nived\\\\Desktop\\\\Nivya work learnings\\\\data analytics_ai\\\\Capstone\\\\Healthcare_Diabetes_Analysis'"
            ]
          },
          "execution_count": 3,
          "metadata": {},
          "output_type": "execute_result"
        }
      ],
      "source": [
        "current_dir = os.getcwd()\n",
        "current_dir"
      ]
    },
    {
      "cell_type": "markdown",
      "metadata": {
        "id": "-mavJ8DibrcQ"
      },
      "source": [
        "# Features addition\n",
        "\n",
        "* Here we will add new features based on the EDA findings, group and transform existing features."
      ]
    },
    {
      "cell_type": "markdown",
      "metadata": {},
      "source": [
        "* Import necessary libraries"
      ]
    },
    {
      "cell_type": "code",
      "execution_count": 4,
      "metadata": {},
      "outputs": [],
      "source": [
        "import pandas as pd\n",
        "import numpy as np"
      ]
    },
    {
      "cell_type": "markdown",
      "metadata": {},
      "source": [
        "* Load the cleaned input file into a dataframe and display the first few rows"
      ]
    },
    {
      "cell_type": "code",
      "execution_count": 5,
      "metadata": {},
      "outputs": [
        {
          "data": {
            "text/html": [
              "<div>\n",
              "<style scoped>\n",
              "    .dataframe tbody tr th:only-of-type {\n",
              "        vertical-align: middle;\n",
              "    }\n",
              "\n",
              "    .dataframe tbody tr th {\n",
              "        vertical-align: top;\n",
              "    }\n",
              "\n",
              "    .dataframe thead th {\n",
              "        text-align: right;\n",
              "    }\n",
              "</style>\n",
              "<table border=\"1\" class=\"dataframe\">\n",
              "  <thead>\n",
              "    <tr style=\"text-align: right;\">\n",
              "      <th></th>\n",
              "      <th>gender</th>\n",
              "      <th>age</th>\n",
              "      <th>hypertension</th>\n",
              "      <th>heart_disease</th>\n",
              "      <th>smoking_history</th>\n",
              "      <th>bmi</th>\n",
              "      <th>HbA1c_level</th>\n",
              "      <th>blood_glucose_level</th>\n",
              "      <th>diabetes</th>\n",
              "    </tr>\n",
              "  </thead>\n",
              "  <tbody>\n",
              "    <tr>\n",
              "      <th>0</th>\n",
              "      <td>Male</td>\n",
              "      <td>80</td>\n",
              "      <td>0</td>\n",
              "      <td>0</td>\n",
              "      <td>former</td>\n",
              "      <td>26.40</td>\n",
              "      <td>8.2</td>\n",
              "      <td>126</td>\n",
              "      <td>1</td>\n",
              "    </tr>\n",
              "    <tr>\n",
              "      <th>1</th>\n",
              "      <td>Female</td>\n",
              "      <td>47</td>\n",
              "      <td>0</td>\n",
              "      <td>0</td>\n",
              "      <td>never</td>\n",
              "      <td>45.88</td>\n",
              "      <td>4.0</td>\n",
              "      <td>159</td>\n",
              "      <td>0</td>\n",
              "    </tr>\n",
              "    <tr>\n",
              "      <th>2</th>\n",
              "      <td>Female</td>\n",
              "      <td>26</td>\n",
              "      <td>0</td>\n",
              "      <td>0</td>\n",
              "      <td>not current</td>\n",
              "      <td>27.32</td>\n",
              "      <td>6.0</td>\n",
              "      <td>130</td>\n",
              "      <td>0</td>\n",
              "    </tr>\n",
              "    <tr>\n",
              "      <th>3</th>\n",
              "      <td>Male</td>\n",
              "      <td>80</td>\n",
              "      <td>0</td>\n",
              "      <td>0</td>\n",
              "      <td>No Info</td>\n",
              "      <td>27.32</td>\n",
              "      <td>7.5</td>\n",
              "      <td>160</td>\n",
              "      <td>1</td>\n",
              "    </tr>\n",
              "    <tr>\n",
              "      <th>4</th>\n",
              "      <td>Male</td>\n",
              "      <td>57</td>\n",
              "      <td>0</td>\n",
              "      <td>0</td>\n",
              "      <td>No Info</td>\n",
              "      <td>27.32</td>\n",
              "      <td>5.8</td>\n",
              "      <td>158</td>\n",
              "      <td>0</td>\n",
              "    </tr>\n",
              "  </tbody>\n",
              "</table>\n",
              "</div>"
            ],
            "text/plain": [
              "   gender  age  hypertension  heart_disease smoking_history    bmi  \\\n",
              "0    Male   80             0              0          former  26.40   \n",
              "1  Female   47             0              0           never  45.88   \n",
              "2  Female   26             0              0     not current  27.32   \n",
              "3    Male   80             0              0         No Info  27.32   \n",
              "4    Male   57             0              0         No Info  27.32   \n",
              "\n",
              "   HbA1c_level  blood_glucose_level  diabetes  \n",
              "0          8.2                  126         1  \n",
              "1          4.0                  159         0  \n",
              "2          6.0                  130         0  \n",
              "3          7.5                  160         1  \n",
              "4          5.8                  158         0  "
            ]
          },
          "execution_count": 5,
          "metadata": {},
          "output_type": "execute_result"
        }
      ],
      "source": [
        "df = pd.read_csv('Data/cleaned/cleaned_diabetes_data.csv')\n",
        "df.head()"
      ]
    },
    {
      "cell_type": "markdown",
      "metadata": {},
      "source": [
        "* Bin the BMI into categories as per WHO classification.\n",
        "* I plan to use this column for dashboard visualizations and let the model use the actual BMI values."
      ]
    },
    {
      "cell_type": "code",
      "execution_count": 6,
      "metadata": {},
      "outputs": [
        {
          "name": "stdout",
          "output_type": "stream",
          "text": [
            "bmi_category\n",
            "Overweight     4126\n",
            "Obesity        3479\n",
            "Normal         1356\n",
            "Underweight      81\n",
            "Name: count, dtype: int64\n"
          ]
        },
        {
          "data": {
            "text/html": [
              "<div>\n",
              "<style scoped>\n",
              "    .dataframe tbody tr th:only-of-type {\n",
              "        vertical-align: middle;\n",
              "    }\n",
              "\n",
              "    .dataframe tbody tr th {\n",
              "        vertical-align: top;\n",
              "    }\n",
              "\n",
              "    .dataframe thead th {\n",
              "        text-align: right;\n",
              "    }\n",
              "</style>\n",
              "<table border=\"1\" class=\"dataframe\">\n",
              "  <thead>\n",
              "    <tr style=\"text-align: right;\">\n",
              "      <th></th>\n",
              "      <th>gender</th>\n",
              "      <th>age</th>\n",
              "      <th>hypertension</th>\n",
              "      <th>heart_disease</th>\n",
              "      <th>smoking_history</th>\n",
              "      <th>bmi</th>\n",
              "      <th>HbA1c_level</th>\n",
              "      <th>blood_glucose_level</th>\n",
              "      <th>diabetes</th>\n",
              "      <th>bmi_category</th>\n",
              "    </tr>\n",
              "  </thead>\n",
              "  <tbody>\n",
              "    <tr>\n",
              "      <th>0</th>\n",
              "      <td>Male</td>\n",
              "      <td>80</td>\n",
              "      <td>0</td>\n",
              "      <td>0</td>\n",
              "      <td>former</td>\n",
              "      <td>26.40</td>\n",
              "      <td>8.2</td>\n",
              "      <td>126</td>\n",
              "      <td>1</td>\n",
              "      <td>Overweight</td>\n",
              "    </tr>\n",
              "    <tr>\n",
              "      <th>1</th>\n",
              "      <td>Female</td>\n",
              "      <td>47</td>\n",
              "      <td>0</td>\n",
              "      <td>0</td>\n",
              "      <td>never</td>\n",
              "      <td>45.88</td>\n",
              "      <td>4.0</td>\n",
              "      <td>159</td>\n",
              "      <td>0</td>\n",
              "      <td>Obesity</td>\n",
              "    </tr>\n",
              "    <tr>\n",
              "      <th>2</th>\n",
              "      <td>Female</td>\n",
              "      <td>26</td>\n",
              "      <td>0</td>\n",
              "      <td>0</td>\n",
              "      <td>not current</td>\n",
              "      <td>27.32</td>\n",
              "      <td>6.0</td>\n",
              "      <td>130</td>\n",
              "      <td>0</td>\n",
              "      <td>Overweight</td>\n",
              "    </tr>\n",
              "    <tr>\n",
              "      <th>3</th>\n",
              "      <td>Male</td>\n",
              "      <td>80</td>\n",
              "      <td>0</td>\n",
              "      <td>0</td>\n",
              "      <td>No Info</td>\n",
              "      <td>27.32</td>\n",
              "      <td>7.5</td>\n",
              "      <td>160</td>\n",
              "      <td>1</td>\n",
              "      <td>Overweight</td>\n",
              "    </tr>\n",
              "    <tr>\n",
              "      <th>4</th>\n",
              "      <td>Male</td>\n",
              "      <td>57</td>\n",
              "      <td>0</td>\n",
              "      <td>0</td>\n",
              "      <td>No Info</td>\n",
              "      <td>27.32</td>\n",
              "      <td>5.8</td>\n",
              "      <td>158</td>\n",
              "      <td>0</td>\n",
              "      <td>Overweight</td>\n",
              "    </tr>\n",
              "  </tbody>\n",
              "</table>\n",
              "</div>"
            ],
            "text/plain": [
              "   gender  age  hypertension  heart_disease smoking_history    bmi  \\\n",
              "0    Male   80             0              0          former  26.40   \n",
              "1  Female   47             0              0           never  45.88   \n",
              "2  Female   26             0              0     not current  27.32   \n",
              "3    Male   80             0              0         No Info  27.32   \n",
              "4    Male   57             0              0         No Info  27.32   \n",
              "\n",
              "   HbA1c_level  blood_glucose_level  diabetes bmi_category  \n",
              "0          8.2                  126         1   Overweight  \n",
              "1          4.0                  159         0      Obesity  \n",
              "2          6.0                  130         0   Overweight  \n",
              "3          7.5                  160         1   Overweight  \n",
              "4          5.8                  158         0   Overweight  "
            ]
          },
          "execution_count": 6,
          "metadata": {},
          "output_type": "execute_result"
        }
      ],
      "source": [
        "# Define BMI bins based on WHO classification\n",
        "bmi_bins = [0, 18.5, 25, 30, float('inf')]\n",
        "\n",
        "# Define the labels for each range\n",
        "bmi_labels = ['Underweight', 'Normal', 'Overweight', 'Obesity']\n",
        "\n",
        "# Bin the data using pd.cut()\n",
        "df['bmi_category'] = pd.cut(df['bmi'], bins=bmi_bins, labels=bmi_labels)\n",
        "\n",
        "# checking for the value counts of the new bmi category\n",
        "print(df['bmi_category'].value_counts())\n",
        "\n",
        "# display the first few rows to verify the new column\n",
        "df.head()"
      ]
    },
    {
      "cell_type": "markdown",
      "metadata": {},
      "source": [
        "* Below is the mapping for BMI categories:\n",
        "  - Underweight: BMI < 18.5\n",
        "  - Normal weight: 18.5 ≤ BMI ≤ 24.9\n",
        "  - Overweight: 25 ≤ BMI ≤ 29.9\n",
        "  - Obesity: BMI ≥ 30"
      ]
    },
    {
      "cell_type": "markdown",
      "metadata": {},
      "source": [
        "* Grouping age into bins for better visualization in dashboard."
      ]
    },
    {
      "cell_type": "code",
      "execution_count": 7,
      "metadata": {},
      "outputs": [
        {
          "name": "stdout",
          "output_type": "stream",
          "text": [
            "age_group\n",
            "Seniors (61+)               3757\n",
            "Late Middle Age (46–60)     2627\n",
            "Early Middle Age (31–45)    1645\n",
            "Young Adults (18–30)        1013\n",
            "Name: count, dtype: int64\n"
          ]
        },
        {
          "data": {
            "text/html": [
              "<div>\n",
              "<style scoped>\n",
              "    .dataframe tbody tr th:only-of-type {\n",
              "        vertical-align: middle;\n",
              "    }\n",
              "\n",
              "    .dataframe tbody tr th {\n",
              "        vertical-align: top;\n",
              "    }\n",
              "\n",
              "    .dataframe thead th {\n",
              "        text-align: right;\n",
              "    }\n",
              "</style>\n",
              "<table border=\"1\" class=\"dataframe\">\n",
              "  <thead>\n",
              "    <tr style=\"text-align: right;\">\n",
              "      <th></th>\n",
              "      <th>gender</th>\n",
              "      <th>age</th>\n",
              "      <th>hypertension</th>\n",
              "      <th>heart_disease</th>\n",
              "      <th>smoking_history</th>\n",
              "      <th>bmi</th>\n",
              "      <th>HbA1c_level</th>\n",
              "      <th>blood_glucose_level</th>\n",
              "      <th>diabetes</th>\n",
              "      <th>bmi_category</th>\n",
              "      <th>age_group</th>\n",
              "    </tr>\n",
              "  </thead>\n",
              "  <tbody>\n",
              "    <tr>\n",
              "      <th>0</th>\n",
              "      <td>Male</td>\n",
              "      <td>80</td>\n",
              "      <td>0</td>\n",
              "      <td>0</td>\n",
              "      <td>former</td>\n",
              "      <td>26.40</td>\n",
              "      <td>8.2</td>\n",
              "      <td>126</td>\n",
              "      <td>1</td>\n",
              "      <td>Overweight</td>\n",
              "      <td>Seniors (61+)</td>\n",
              "    </tr>\n",
              "    <tr>\n",
              "      <th>1</th>\n",
              "      <td>Female</td>\n",
              "      <td>47</td>\n",
              "      <td>0</td>\n",
              "      <td>0</td>\n",
              "      <td>never</td>\n",
              "      <td>45.88</td>\n",
              "      <td>4.0</td>\n",
              "      <td>159</td>\n",
              "      <td>0</td>\n",
              "      <td>Obesity</td>\n",
              "      <td>Late Middle Age (46–60)</td>\n",
              "    </tr>\n",
              "    <tr>\n",
              "      <th>2</th>\n",
              "      <td>Female</td>\n",
              "      <td>26</td>\n",
              "      <td>0</td>\n",
              "      <td>0</td>\n",
              "      <td>not current</td>\n",
              "      <td>27.32</td>\n",
              "      <td>6.0</td>\n",
              "      <td>130</td>\n",
              "      <td>0</td>\n",
              "      <td>Overweight</td>\n",
              "      <td>Young Adults (18–30)</td>\n",
              "    </tr>\n",
              "    <tr>\n",
              "      <th>3</th>\n",
              "      <td>Male</td>\n",
              "      <td>80</td>\n",
              "      <td>0</td>\n",
              "      <td>0</td>\n",
              "      <td>No Info</td>\n",
              "      <td>27.32</td>\n",
              "      <td>7.5</td>\n",
              "      <td>160</td>\n",
              "      <td>1</td>\n",
              "      <td>Overweight</td>\n",
              "      <td>Seniors (61+)</td>\n",
              "    </tr>\n",
              "    <tr>\n",
              "      <th>4</th>\n",
              "      <td>Male</td>\n",
              "      <td>57</td>\n",
              "      <td>0</td>\n",
              "      <td>0</td>\n",
              "      <td>No Info</td>\n",
              "      <td>27.32</td>\n",
              "      <td>5.8</td>\n",
              "      <td>158</td>\n",
              "      <td>0</td>\n",
              "      <td>Overweight</td>\n",
              "      <td>Late Middle Age (46–60)</td>\n",
              "    </tr>\n",
              "  </tbody>\n",
              "</table>\n",
              "</div>"
            ],
            "text/plain": [
              "   gender  age  hypertension  heart_disease smoking_history    bmi  \\\n",
              "0    Male   80             0              0          former  26.40   \n",
              "1  Female   47             0              0           never  45.88   \n",
              "2  Female   26             0              0     not current  27.32   \n",
              "3    Male   80             0              0         No Info  27.32   \n",
              "4    Male   57             0              0         No Info  27.32   \n",
              "\n",
              "   HbA1c_level  blood_glucose_level  diabetes bmi_category  \\\n",
              "0          8.2                  126         1   Overweight   \n",
              "1          4.0                  159         0      Obesity   \n",
              "2          6.0                  130         0   Overweight   \n",
              "3          7.5                  160         1   Overweight   \n",
              "4          5.8                  158         0   Overweight   \n",
              "\n",
              "                 age_group  \n",
              "0            Seniors (61+)  \n",
              "1  Late Middle Age (46–60)  \n",
              "2     Young Adults (18–30)  \n",
              "3            Seniors (61+)  \n",
              "4  Late Middle Age (46–60)  "
            ]
          },
          "execution_count": 7,
          "metadata": {},
          "output_type": "execute_result"
        }
      ],
      "source": [
        "# Define age bins into 4 categories\n",
        "age_bins = [18, 30, 45, 60, 100]\n",
        "\n",
        "# Define the labels for each range\n",
        "age_labels = ['Young Adults (18–30)', \n",
        "              'Early Middle Age (31–45)', \n",
        "              'Late Middle Age (46–60)', \n",
        "              'Seniors (61+)']\n",
        "\n",
        "# Bin the data using pd.cut()\n",
        "df['age_group'] = pd.cut(\n",
        "    df['age'],\n",
        "    bins=age_bins,\n",
        "    labels=age_labels,\n",
        "    right=True,          # includes the right edge, so 30 is in first bin, 45 in second, etc.\n",
        "    include_lowest=True  # ensures 18 is included in the first bin\n",
        ")\n",
        "\n",
        "# checking for the value counts of the new bmi category\n",
        "print(df['age_group'].value_counts())\n",
        "\n",
        "# display the first few rows to verify the new column\n",
        "df.head()"
      ]
    },
    {
      "cell_type": "markdown",
      "metadata": {},
      "source": [
        "* Creating a new feature called 'diabetes_risk' based on HbA1c levels and blood glucose levels.\n",
        "* This feature will categorize patients into 'Low Risk', 'Pre-Diabetes', and 'High Risk (Diabetes)' based on their HbA1c and blood glucose levels.\n",
        "  - Low Risk: HbA1c < 5.7\n",
        "  - Pre-Diabetes: 5.7 ≤ HbA1c < 6.5\n",
        "  - High Risk (Diabetes): HbA1c ≥ 6.5"
      ]
    },
    {
      "cell_type": "code",
      "execution_count": 8,
      "metadata": {},
      "outputs": [
        {
          "name": "stdout",
          "output_type": "stream",
          "text": [
            "diabetes_risk\n",
            "Very High Risk    4836\n",
            "Moderate Risk     1941\n",
            "High Risk         1496\n",
            "Low Risk           769\n",
            "Name: count, dtype: int64\n"
          ]
        },
        {
          "data": {
            "text/html": [
              "<div>\n",
              "<style scoped>\n",
              "    .dataframe tbody tr th:only-of-type {\n",
              "        vertical-align: middle;\n",
              "    }\n",
              "\n",
              "    .dataframe tbody tr th {\n",
              "        vertical-align: top;\n",
              "    }\n",
              "\n",
              "    .dataframe thead th {\n",
              "        text-align: right;\n",
              "    }\n",
              "</style>\n",
              "<table border=\"1\" class=\"dataframe\">\n",
              "  <thead>\n",
              "    <tr style=\"text-align: right;\">\n",
              "      <th></th>\n",
              "      <th>gender</th>\n",
              "      <th>age</th>\n",
              "      <th>hypertension</th>\n",
              "      <th>heart_disease</th>\n",
              "      <th>smoking_history</th>\n",
              "      <th>bmi</th>\n",
              "      <th>HbA1c_level</th>\n",
              "      <th>blood_glucose_level</th>\n",
              "      <th>diabetes</th>\n",
              "      <th>bmi_category</th>\n",
              "      <th>age_group</th>\n",
              "      <th>diabetes_risk</th>\n",
              "    </tr>\n",
              "  </thead>\n",
              "  <tbody>\n",
              "    <tr>\n",
              "      <th>0</th>\n",
              "      <td>Male</td>\n",
              "      <td>80</td>\n",
              "      <td>0</td>\n",
              "      <td>0</td>\n",
              "      <td>former</td>\n",
              "      <td>26.40</td>\n",
              "      <td>8.2</td>\n",
              "      <td>126</td>\n",
              "      <td>1</td>\n",
              "      <td>Overweight</td>\n",
              "      <td>Seniors (61+)</td>\n",
              "      <td>Very High Risk</td>\n",
              "    </tr>\n",
              "    <tr>\n",
              "      <th>1</th>\n",
              "      <td>Female</td>\n",
              "      <td>47</td>\n",
              "      <td>0</td>\n",
              "      <td>0</td>\n",
              "      <td>never</td>\n",
              "      <td>45.88</td>\n",
              "      <td>4.0</td>\n",
              "      <td>159</td>\n",
              "      <td>0</td>\n",
              "      <td>Obesity</td>\n",
              "      <td>Late Middle Age (46–60)</td>\n",
              "      <td>Moderate Risk</td>\n",
              "    </tr>\n",
              "    <tr>\n",
              "      <th>2</th>\n",
              "      <td>Female</td>\n",
              "      <td>26</td>\n",
              "      <td>0</td>\n",
              "      <td>0</td>\n",
              "      <td>not current</td>\n",
              "      <td>27.32</td>\n",
              "      <td>6.0</td>\n",
              "      <td>130</td>\n",
              "      <td>0</td>\n",
              "      <td>Overweight</td>\n",
              "      <td>Young Adults (18–30)</td>\n",
              "      <td>Moderate Risk</td>\n",
              "    </tr>\n",
              "    <tr>\n",
              "      <th>3</th>\n",
              "      <td>Male</td>\n",
              "      <td>80</td>\n",
              "      <td>0</td>\n",
              "      <td>0</td>\n",
              "      <td>No Info</td>\n",
              "      <td>27.32</td>\n",
              "      <td>7.5</td>\n",
              "      <td>160</td>\n",
              "      <td>1</td>\n",
              "      <td>Overweight</td>\n",
              "      <td>Seniors (61+)</td>\n",
              "      <td>Very High Risk</td>\n",
              "    </tr>\n",
              "    <tr>\n",
              "      <th>4</th>\n",
              "      <td>Male</td>\n",
              "      <td>57</td>\n",
              "      <td>0</td>\n",
              "      <td>0</td>\n",
              "      <td>No Info</td>\n",
              "      <td>27.32</td>\n",
              "      <td>5.8</td>\n",
              "      <td>158</td>\n",
              "      <td>0</td>\n",
              "      <td>Overweight</td>\n",
              "      <td>Late Middle Age (46–60)</td>\n",
              "      <td>High Risk</td>\n",
              "    </tr>\n",
              "  </tbody>\n",
              "</table>\n",
              "</div>"
            ],
            "text/plain": [
              "   gender  age  hypertension  heart_disease smoking_history    bmi  \\\n",
              "0    Male   80             0              0          former  26.40   \n",
              "1  Female   47             0              0           never  45.88   \n",
              "2  Female   26             0              0     not current  27.32   \n",
              "3    Male   80             0              0         No Info  27.32   \n",
              "4    Male   57             0              0         No Info  27.32   \n",
              "\n",
              "   HbA1c_level  blood_glucose_level  diabetes bmi_category  \\\n",
              "0          8.2                  126         1   Overweight   \n",
              "1          4.0                  159         0      Obesity   \n",
              "2          6.0                  130         0   Overweight   \n",
              "3          7.5                  160         1   Overweight   \n",
              "4          5.8                  158         0   Overweight   \n",
              "\n",
              "                 age_group   diabetes_risk  \n",
              "0            Seniors (61+)  Very High Risk  \n",
              "1  Late Middle Age (46–60)   Moderate Risk  \n",
              "2     Young Adults (18–30)   Moderate Risk  \n",
              "3            Seniors (61+)  Very High Risk  \n",
              "4  Late Middle Age (46–60)       High Risk  "
            ]
          },
          "execution_count": 8,
          "metadata": {},
          "output_type": "execute_result"
        }
      ],
      "source": [
        "risk_conditions = [\n",
        "    (df['HbA1c_level'] >= 6.5) | (df['blood_glucose_level'] >= 200),\n",
        "    (df['HbA1c_level'].between(5.7, 6.4)) & (df['blood_glucose_level'].between(140, 199)),\n",
        "    (df['HbA1c_level'].between(5.7, 6.4)) | (df['blood_glucose_level'].between(140, 199)),\n",
        "    (df['HbA1c_level'] < 5.7) | (df['blood_glucose_level'] < 140)\n",
        "]\n",
        "\n",
        "risk_labels = [\n",
        "    'Very High Risk',\n",
        "    'High Risk',\n",
        "    'Moderate Risk',\n",
        "    'Low Risk'\n",
        "]\n",
        "\n",
        "df['diabetes_risk'] = np.select(risk_conditions, risk_labels)\n",
        "\n",
        "print(df['diabetes_risk'].value_counts())\n",
        "\n",
        "# display the first few rows to verify the new column\n",
        "df.head()"
      ]
    },
    {
      "cell_type": "markdown",
      "metadata": {},
      "source": [
        "* Grouping the smoking history into just 3 categories - 'never','smoker','unknown'.\n",
        "* This is to reduce the number of categories and simplify the understanding of the data when used in dashboard."
      ]
    },
    {
      "cell_type": "code",
      "execution_count": 9,
      "metadata": {},
      "outputs": [
        {
          "name": "stdout",
          "output_type": "stream",
          "text": [
            "value counts smoking before:  smoking_history\n",
            "never          3534\n",
            "No Info        2026\n",
            "former         1352\n",
            "current         988\n",
            "not current     685\n",
            "ever            457\n",
            "Name: count, dtype: int64\n",
            "value counts smoking after:  smoking_binned\n",
            "non-smoker    3534\n",
            "smoker        3482\n",
            "unknown       2026\n",
            "Name: count, dtype: int64\n"
          ]
        },
        {
          "data": {
            "text/html": [
              "<div>\n",
              "<style scoped>\n",
              "    .dataframe tbody tr th:only-of-type {\n",
              "        vertical-align: middle;\n",
              "    }\n",
              "\n",
              "    .dataframe tbody tr th {\n",
              "        vertical-align: top;\n",
              "    }\n",
              "\n",
              "    .dataframe thead th {\n",
              "        text-align: right;\n",
              "    }\n",
              "</style>\n",
              "<table border=\"1\" class=\"dataframe\">\n",
              "  <thead>\n",
              "    <tr style=\"text-align: right;\">\n",
              "      <th></th>\n",
              "      <th>gender</th>\n",
              "      <th>age</th>\n",
              "      <th>hypertension</th>\n",
              "      <th>heart_disease</th>\n",
              "      <th>smoking_history</th>\n",
              "      <th>bmi</th>\n",
              "      <th>HbA1c_level</th>\n",
              "      <th>blood_glucose_level</th>\n",
              "      <th>diabetes</th>\n",
              "      <th>bmi_category</th>\n",
              "      <th>age_group</th>\n",
              "      <th>diabetes_risk</th>\n",
              "      <th>smoking_binned</th>\n",
              "    </tr>\n",
              "  </thead>\n",
              "  <tbody>\n",
              "    <tr>\n",
              "      <th>0</th>\n",
              "      <td>Male</td>\n",
              "      <td>80</td>\n",
              "      <td>0</td>\n",
              "      <td>0</td>\n",
              "      <td>former</td>\n",
              "      <td>26.40</td>\n",
              "      <td>8.2</td>\n",
              "      <td>126</td>\n",
              "      <td>1</td>\n",
              "      <td>Overweight</td>\n",
              "      <td>Seniors (61+)</td>\n",
              "      <td>Very High Risk</td>\n",
              "      <td>smoker</td>\n",
              "    </tr>\n",
              "    <tr>\n",
              "      <th>1</th>\n",
              "      <td>Female</td>\n",
              "      <td>47</td>\n",
              "      <td>0</td>\n",
              "      <td>0</td>\n",
              "      <td>never</td>\n",
              "      <td>45.88</td>\n",
              "      <td>4.0</td>\n",
              "      <td>159</td>\n",
              "      <td>0</td>\n",
              "      <td>Obesity</td>\n",
              "      <td>Late Middle Age (46–60)</td>\n",
              "      <td>Moderate Risk</td>\n",
              "      <td>non-smoker</td>\n",
              "    </tr>\n",
              "    <tr>\n",
              "      <th>2</th>\n",
              "      <td>Female</td>\n",
              "      <td>26</td>\n",
              "      <td>0</td>\n",
              "      <td>0</td>\n",
              "      <td>not current</td>\n",
              "      <td>27.32</td>\n",
              "      <td>6.0</td>\n",
              "      <td>130</td>\n",
              "      <td>0</td>\n",
              "      <td>Overweight</td>\n",
              "      <td>Young Adults (18–30)</td>\n",
              "      <td>Moderate Risk</td>\n",
              "      <td>smoker</td>\n",
              "    </tr>\n",
              "    <tr>\n",
              "      <th>3</th>\n",
              "      <td>Male</td>\n",
              "      <td>80</td>\n",
              "      <td>0</td>\n",
              "      <td>0</td>\n",
              "      <td>No Info</td>\n",
              "      <td>27.32</td>\n",
              "      <td>7.5</td>\n",
              "      <td>160</td>\n",
              "      <td>1</td>\n",
              "      <td>Overweight</td>\n",
              "      <td>Seniors (61+)</td>\n",
              "      <td>Very High Risk</td>\n",
              "      <td>unknown</td>\n",
              "    </tr>\n",
              "    <tr>\n",
              "      <th>4</th>\n",
              "      <td>Male</td>\n",
              "      <td>57</td>\n",
              "      <td>0</td>\n",
              "      <td>0</td>\n",
              "      <td>No Info</td>\n",
              "      <td>27.32</td>\n",
              "      <td>5.8</td>\n",
              "      <td>158</td>\n",
              "      <td>0</td>\n",
              "      <td>Overweight</td>\n",
              "      <td>Late Middle Age (46–60)</td>\n",
              "      <td>High Risk</td>\n",
              "      <td>unknown</td>\n",
              "    </tr>\n",
              "  </tbody>\n",
              "</table>\n",
              "</div>"
            ],
            "text/plain": [
              "   gender  age  hypertension  heart_disease smoking_history    bmi  \\\n",
              "0    Male   80             0              0          former  26.40   \n",
              "1  Female   47             0              0           never  45.88   \n",
              "2  Female   26             0              0     not current  27.32   \n",
              "3    Male   80             0              0         No Info  27.32   \n",
              "4    Male   57             0              0         No Info  27.32   \n",
              "\n",
              "   HbA1c_level  blood_glucose_level  diabetes bmi_category  \\\n",
              "0          8.2                  126         1   Overweight   \n",
              "1          4.0                  159         0      Obesity   \n",
              "2          6.0                  130         0   Overweight   \n",
              "3          7.5                  160         1   Overweight   \n",
              "4          5.8                  158         0   Overweight   \n",
              "\n",
              "                 age_group   diabetes_risk smoking_binned  \n",
              "0            Seniors (61+)  Very High Risk         smoker  \n",
              "1  Late Middle Age (46–60)   Moderate Risk     non-smoker  \n",
              "2     Young Adults (18–30)   Moderate Risk         smoker  \n",
              "3            Seniors (61+)  Very High Risk        unknown  \n",
              "4  Late Middle Age (46–60)       High Risk        unknown  "
            ]
          },
          "execution_count": 9,
          "metadata": {},
          "output_type": "execute_result"
        }
      ],
      "source": [
        "# grouping the smoking history\n",
        "def bin_smoking(value):\n",
        "    if value == 'never':\n",
        "        return 'non-smoker'\n",
        "    elif value in ['current', 'former', 'ever', 'not current']:\n",
        "        return 'smoker'\n",
        "    else:\n",
        "        return 'unknown'\n",
        "\n",
        "df['smoking_binned'] = df['smoking_history'].apply(bin_smoking)\n",
        "\n",
        "# checking the value counts of the actual smoking history column and the new binned column\n",
        "print(f\"value counts smoking before: \",df['smoking_history'].value_counts())\n",
        "print(f\"value counts smoking after: \",df['smoking_binned'].value_counts())\n",
        "\n",
        "# display the first few rows to verify the new column\n",
        "df.head()"
      ]
    },
    {
      "cell_type": "markdown",
      "metadata": {},
      "source": [
        "* Save this dataframe to a new df_dashboard. We will later save this dataframe as a csv file to be used in dashboard visualizations."
      ]
    },
    {
      "cell_type": "code",
      "execution_count": 11,
      "metadata": {},
      "outputs": [
        {
          "data": {
            "text/html": [
              "<div>\n",
              "<style scoped>\n",
              "    .dataframe tbody tr th:only-of-type {\n",
              "        vertical-align: middle;\n",
              "    }\n",
              "\n",
              "    .dataframe tbody tr th {\n",
              "        vertical-align: top;\n",
              "    }\n",
              "\n",
              "    .dataframe thead th {\n",
              "        text-align: right;\n",
              "    }\n",
              "</style>\n",
              "<table border=\"1\" class=\"dataframe\">\n",
              "  <thead>\n",
              "    <tr style=\"text-align: right;\">\n",
              "      <th></th>\n",
              "      <th>gender</th>\n",
              "      <th>age</th>\n",
              "      <th>hypertension</th>\n",
              "      <th>heart_disease</th>\n",
              "      <th>smoking_history</th>\n",
              "      <th>bmi</th>\n",
              "      <th>HbA1c_level</th>\n",
              "      <th>blood_glucose_level</th>\n",
              "      <th>diabetes</th>\n",
              "      <th>bmi_category</th>\n",
              "      <th>age_group</th>\n",
              "      <th>diabetes_risk</th>\n",
              "      <th>smoking_binned</th>\n",
              "    </tr>\n",
              "  </thead>\n",
              "  <tbody>\n",
              "    <tr>\n",
              "      <th>0</th>\n",
              "      <td>Male</td>\n",
              "      <td>80</td>\n",
              "      <td>0</td>\n",
              "      <td>0</td>\n",
              "      <td>former</td>\n",
              "      <td>26.40</td>\n",
              "      <td>8.2</td>\n",
              "      <td>126</td>\n",
              "      <td>1</td>\n",
              "      <td>Overweight</td>\n",
              "      <td>Seniors (61+)</td>\n",
              "      <td>Very High Risk</td>\n",
              "      <td>smoker</td>\n",
              "    </tr>\n",
              "    <tr>\n",
              "      <th>1</th>\n",
              "      <td>Female</td>\n",
              "      <td>47</td>\n",
              "      <td>0</td>\n",
              "      <td>0</td>\n",
              "      <td>never</td>\n",
              "      <td>45.88</td>\n",
              "      <td>4.0</td>\n",
              "      <td>159</td>\n",
              "      <td>0</td>\n",
              "      <td>Obesity</td>\n",
              "      <td>Late Middle Age (46–60)</td>\n",
              "      <td>Moderate Risk</td>\n",
              "      <td>non-smoker</td>\n",
              "    </tr>\n",
              "    <tr>\n",
              "      <th>2</th>\n",
              "      <td>Female</td>\n",
              "      <td>26</td>\n",
              "      <td>0</td>\n",
              "      <td>0</td>\n",
              "      <td>not current</td>\n",
              "      <td>27.32</td>\n",
              "      <td>6.0</td>\n",
              "      <td>130</td>\n",
              "      <td>0</td>\n",
              "      <td>Overweight</td>\n",
              "      <td>Young Adults (18–30)</td>\n",
              "      <td>Moderate Risk</td>\n",
              "      <td>smoker</td>\n",
              "    </tr>\n",
              "    <tr>\n",
              "      <th>3</th>\n",
              "      <td>Male</td>\n",
              "      <td>80</td>\n",
              "      <td>0</td>\n",
              "      <td>0</td>\n",
              "      <td>No Info</td>\n",
              "      <td>27.32</td>\n",
              "      <td>7.5</td>\n",
              "      <td>160</td>\n",
              "      <td>1</td>\n",
              "      <td>Overweight</td>\n",
              "      <td>Seniors (61+)</td>\n",
              "      <td>Very High Risk</td>\n",
              "      <td>unknown</td>\n",
              "    </tr>\n",
              "    <tr>\n",
              "      <th>4</th>\n",
              "      <td>Male</td>\n",
              "      <td>57</td>\n",
              "      <td>0</td>\n",
              "      <td>0</td>\n",
              "      <td>No Info</td>\n",
              "      <td>27.32</td>\n",
              "      <td>5.8</td>\n",
              "      <td>158</td>\n",
              "      <td>0</td>\n",
              "      <td>Overweight</td>\n",
              "      <td>Late Middle Age (46–60)</td>\n",
              "      <td>High Risk</td>\n",
              "      <td>unknown</td>\n",
              "    </tr>\n",
              "  </tbody>\n",
              "</table>\n",
              "</div>"
            ],
            "text/plain": [
              "   gender  age  hypertension  heart_disease smoking_history    bmi  \\\n",
              "0    Male   80             0              0          former  26.40   \n",
              "1  Female   47             0              0           never  45.88   \n",
              "2  Female   26             0              0     not current  27.32   \n",
              "3    Male   80             0              0         No Info  27.32   \n",
              "4    Male   57             0              0         No Info  27.32   \n",
              "\n",
              "   HbA1c_level  blood_glucose_level  diabetes bmi_category  \\\n",
              "0          8.2                  126         1   Overweight   \n",
              "1          4.0                  159         0      Obesity   \n",
              "2          6.0                  130         0   Overweight   \n",
              "3          7.5                  160         1   Overweight   \n",
              "4          5.8                  158         0   Overweight   \n",
              "\n",
              "                 age_group   diabetes_risk smoking_binned  \n",
              "0            Seniors (61+)  Very High Risk         smoker  \n",
              "1  Late Middle Age (46–60)   Moderate Risk     non-smoker  \n",
              "2     Young Adults (18–30)   Moderate Risk         smoker  \n",
              "3            Seniors (61+)  Very High Risk        unknown  \n",
              "4  Late Middle Age (46–60)       High Risk        unknown  "
            ]
          },
          "execution_count": 11,
          "metadata": {},
          "output_type": "execute_result"
        }
      ],
      "source": [
        "df_dashboard = df.copy()\n",
        "df_dashboard.head()"
      ]
    },
    {
      "cell_type": "markdown",
      "metadata": {},
      "source": [
        "* **One-hot encode categorical variables**: Convert categorical variables(gender and smoking_binned) into a format that can be provided to ML algorithms to do a better job in prediction."
      ]
    },
    {
      "cell_type": "markdown",
      "metadata": {
        "id": "ZY3l0-AxO93d"
      },
      "source": [
        "---"
      ]
    },
    {
      "cell_type": "markdown",
      "metadata": {
        "id": "uFQo3ycuO-v6"
      },
      "source": [
        "# Section 2"
      ]
    },
    {
      "cell_type": "markdown",
      "metadata": {},
      "source": [
        "Section 2 content"
      ]
    },
    {
      "cell_type": "code",
      "execution_count": null,
      "metadata": {},
      "outputs": [],
      "source": []
    },
    {
      "cell_type": "markdown",
      "metadata": {},
      "source": [
        "---"
      ]
    },
    {
      "cell_type": "markdown",
      "metadata": {},
      "source": [
        "NOTE"
      ]
    },
    {
      "cell_type": "markdown",
      "metadata": {},
      "source": [
        "* You may add as many sections as you want, as long as it supports your project workflow.\n",
        "* All notebook's cells should be run top-down (you can't create a dynamic wherein a given point you need to go back to a previous cell to execute some task, like go back to a previous cell and refresh a variable content)"
      ]
    },
    {
      "cell_type": "markdown",
      "metadata": {},
      "source": [
        "---"
      ]
    },
    {
      "cell_type": "markdown",
      "metadata": {
        "id": "ltNetd085qHf"
      },
      "source": [
        "# Push files to Repo"
      ]
    },
    {
      "cell_type": "markdown",
      "metadata": {},
      "source": [
        "* In cases where you don't need to push files to Repo, you may replace this section with \"Conclusions and Next Steps\" and state your conclusions and next steps."
      ]
    },
    {
      "cell_type": "code",
      "execution_count": null,
      "metadata": {
        "id": "aKlnIozA4eQO",
        "outputId": "fd09bc1f-adb1-4511-f6ce-492a6af570c0"
      },
      "outputs": [],
      "source": [
        "import os\n",
        "try:\n",
        "  # create your folder here\n",
        "  # os.makedirs(name='')\n",
        "except Exception as e:\n",
        "  print(e)\n"
      ]
    }
  ],
  "metadata": {
    "accelerator": "GPU",
    "colab": {
      "name": "Data Practitioner Jupyter Notebook.ipynb",
      "provenance": [],
      "toc_visible": true
    },
    "kernelspec": {
      "display_name": ".venv",
      "language": "python",
      "name": "python3"
    },
    "language_info": {
      "codemirror_mode": {
        "name": "ipython",
        "version": 3
      },
      "file_extension": ".py",
      "mimetype": "text/x-python",
      "name": "python",
      "nbconvert_exporter": "python",
      "pygments_lexer": "ipython3",
      "version": "3.12.8"
    },
    "orig_nbformat": 2
  },
  "nbformat": 4,
  "nbformat_minor": 2
}
