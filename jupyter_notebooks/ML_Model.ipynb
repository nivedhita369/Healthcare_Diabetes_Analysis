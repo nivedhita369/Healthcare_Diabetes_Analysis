{
  "cells": [
    {
      "cell_type": "markdown",
      "metadata": {
        "id": "0aStgWSO0E0E"
      },
      "source": [
        "# **This notebook handle ML modelling**"
      ]
    },
    {
      "cell_type": "markdown",
      "metadata": {
        "id": "1eLEkw5O0ECa"
      },
      "source": [
        "## Objectives\n",
        "\n",
        "* Here we create a ML model to predict diabetes based on the features engineered in the previous notebook.\n",
        "\n",
        "## Inputs\n",
        "\n",
        "* The input is the diabeters_model_input.csv file located in the data/transformed directory. This file was generated in the Feature_Engineering notebook. \n",
        "\n",
        "## Outputs\n",
        "\n",
        "* The output file is **diabetes_risk_prediction.csv** located in the transformed data folder. \n",
        "* It has only the test set data. Without the target diabetes column. With new risk_category and risk_score columns.\n",
        "\n",
        "## Additional Comments\n",
        "\n",
        "* If you have any additional comments that don't fit in the previous bullets, please state them here. \n",
        "\n"
      ]
    },
    {
      "cell_type": "markdown",
      "metadata": {
        "id": "9uWZXH9LwoQg"
      },
      "source": [
        "---"
      ]
    },
    {
      "cell_type": "markdown",
      "metadata": {
        "id": "cqP-UeN-z3i2"
      },
      "source": [
        "# Change working directory"
      ]
    },
    {
      "cell_type": "markdown",
      "metadata": {},
      "source": [
        "* We are assuming you will store the notebooks in a subfolder, therefore when running the notebook in the editor, you will need to change the working directory"
      ]
    },
    {
      "cell_type": "markdown",
      "metadata": {
        "id": "aOGIGS-uz3i2"
      },
      "source": [
        "We need to change the working directory from its current folder to its parent folder\n",
        "* We access the current directory with os.getcwd()"
      ]
    },
    {
      "cell_type": "code",
      "execution_count": 26,
      "metadata": {
        "id": "wZfF_j-Bz3i4",
        "outputId": "66943449-1436-4c3d-85c7-b85f9f78349b"
      },
      "outputs": [
        {
          "data": {
            "text/plain": [
              "'/workspaces/Healthcare_Diabetes_Analysis'"
            ]
          },
          "execution_count": 26,
          "metadata": {},
          "output_type": "execute_result"
        }
      ],
      "source": [
        "import os\n",
        "current_dir = os.getcwd()\n",
        "current_dir"
      ]
    },
    {
      "cell_type": "markdown",
      "metadata": {
        "id": "9MWW8E7lz3i7"
      },
      "source": [
        "We want to make the parent of the current directory the new current directory\n",
        "* os.path.dirname() gets the parent directory\n",
        "* os.chir() defines the new current directory"
      ]
    },
    {
      "cell_type": "code",
      "execution_count": null,
      "metadata": {
        "id": "TwHsQRWjz3i9",
        "outputId": "86849db3-cd2f-4cc5-ebb8-2d0caafa1a2c"
      },
      "outputs": [],
      "source": [
        "os.chdir(os.path.dirname(current_dir))\n",
        "print(\"You set a new current directory\")"
      ]
    },
    {
      "cell_type": "markdown",
      "metadata": {
        "id": "M_xPk_Ijz3i-"
      },
      "source": [
        "Confirm the new current directory"
      ]
    },
    {
      "cell_type": "code",
      "execution_count": null,
      "metadata": {
        "id": "vz3S-_kjz3jA",
        "outputId": "00b79ae4-75d0-4a96-d193-ac9ef9847ea2"
      },
      "outputs": [],
      "source": [
        "current_dir = os.getcwd()\n",
        "current_dir"
      ]
    },
    {
      "cell_type": "markdown",
      "metadata": {
        "id": "-mavJ8DibrcQ"
      },
      "source": [
        "# ML model "
      ]
    },
    {
      "cell_type": "markdown",
      "metadata": {},
      "source": [
        "* Import the libraries needed"
      ]
    },
    {
      "cell_type": "code",
      "execution_count": 27,
      "metadata": {},
      "outputs": [],
      "source": [
        "import pandas as pd\n",
        "from sklearn.pipeline import Pipeline\n",
        "from sklearn.preprocessing import StandardScaler\n",
        "from sklearn.feature_selection import SelectFromModel\n",
        "from sklearn.linear_model import LogisticRegression\n",
        "from sklearn.ensemble import RandomForestClassifier\n",
        "from sklearn.model_selection import train_test_split\n",
        "from sklearn.metrics import classification_report, confusion_matrix\n",
        "from sklearn.model_selection import GridSearchCV\n",
        "from sklearn.metrics import make_scorer, recall_score\n",
        "import matplotlib.pyplot as plt"
      ]
    },
    {
      "cell_type": "markdown",
      "metadata": {},
      "source": [
        "* Load the input file to a dataframe"
      ]
    },
    {
      "cell_type": "code",
      "execution_count": 28,
      "metadata": {},
      "outputs": [
        {
          "name": "stdout",
          "output_type": "stream",
          "text": [
            "(9042, 10)\n"
          ]
        },
        {
          "data": {
            "text/html": [
              "<div>\n",
              "<style scoped>\n",
              "    .dataframe tbody tr th:only-of-type {\n",
              "        vertical-align: middle;\n",
              "    }\n",
              "\n",
              "    .dataframe tbody tr th {\n",
              "        vertical-align: top;\n",
              "    }\n",
              "\n",
              "    .dataframe thead th {\n",
              "        text-align: right;\n",
              "    }\n",
              "</style>\n",
              "<table border=\"1\" class=\"dataframe\">\n",
              "  <thead>\n",
              "    <tr style=\"text-align: right;\">\n",
              "      <th></th>\n",
              "      <th>age</th>\n",
              "      <th>bmi</th>\n",
              "      <th>HbA1c_level</th>\n",
              "      <th>blood_glucose_level</th>\n",
              "      <th>hypertension</th>\n",
              "      <th>heart_disease</th>\n",
              "      <th>smoking_binned_smoker</th>\n",
              "      <th>smoking_binned_non-smoker</th>\n",
              "      <th>gender_Male</th>\n",
              "      <th>diabetes</th>\n",
              "    </tr>\n",
              "  </thead>\n",
              "  <tbody>\n",
              "    <tr>\n",
              "      <th>0</th>\n",
              "      <td>80</td>\n",
              "      <td>26.40</td>\n",
              "      <td>8.20</td>\n",
              "      <td>126</td>\n",
              "      <td>0</td>\n",
              "      <td>0</td>\n",
              "      <td>1</td>\n",
              "      <td>0</td>\n",
              "      <td>1</td>\n",
              "      <td>1</td>\n",
              "    </tr>\n",
              "    <tr>\n",
              "      <th>1</th>\n",
              "      <td>47</td>\n",
              "      <td>43.10</td>\n",
              "      <td>4.05</td>\n",
              "      <td>159</td>\n",
              "      <td>0</td>\n",
              "      <td>0</td>\n",
              "      <td>0</td>\n",
              "      <td>1</td>\n",
              "      <td>0</td>\n",
              "      <td>0</td>\n",
              "    </tr>\n",
              "    <tr>\n",
              "      <th>2</th>\n",
              "      <td>26</td>\n",
              "      <td>27.32</td>\n",
              "      <td>6.00</td>\n",
              "      <td>130</td>\n",
              "      <td>0</td>\n",
              "      <td>0</td>\n",
              "      <td>1</td>\n",
              "      <td>0</td>\n",
              "      <td>0</td>\n",
              "      <td>0</td>\n",
              "    </tr>\n",
              "    <tr>\n",
              "      <th>3</th>\n",
              "      <td>80</td>\n",
              "      <td>27.32</td>\n",
              "      <td>7.50</td>\n",
              "      <td>160</td>\n",
              "      <td>0</td>\n",
              "      <td>0</td>\n",
              "      <td>0</td>\n",
              "      <td>0</td>\n",
              "      <td>1</td>\n",
              "      <td>1</td>\n",
              "    </tr>\n",
              "    <tr>\n",
              "      <th>4</th>\n",
              "      <td>57</td>\n",
              "      <td>27.32</td>\n",
              "      <td>5.80</td>\n",
              "      <td>158</td>\n",
              "      <td>0</td>\n",
              "      <td>0</td>\n",
              "      <td>0</td>\n",
              "      <td>0</td>\n",
              "      <td>1</td>\n",
              "      <td>0</td>\n",
              "    </tr>\n",
              "  </tbody>\n",
              "</table>\n",
              "</div>"
            ],
            "text/plain": [
              "   age    bmi  HbA1c_level  blood_glucose_level  hypertension  heart_disease  \\\n",
              "0   80  26.40         8.20                  126             0              0   \n",
              "1   47  43.10         4.05                  159             0              0   \n",
              "2   26  27.32         6.00                  130             0              0   \n",
              "3   80  27.32         7.50                  160             0              0   \n",
              "4   57  27.32         5.80                  158             0              0   \n",
              "\n",
              "   smoking_binned_smoker  smoking_binned_non-smoker  gender_Male  diabetes  \n",
              "0                      1                          0            1         1  \n",
              "1                      0                          1            0         0  \n",
              "2                      1                          0            0         0  \n",
              "3                      0                          0            1         1  \n",
              "4                      0                          0            1         0  "
            ]
          },
          "execution_count": 28,
          "metadata": {},
          "output_type": "execute_result"
        }
      ],
      "source": [
        "df = pd.read_csv('Data/transformed/diabetes_model_input.csv')\n",
        "# display the shape and first few rows of the dataframe\n",
        "print(df.shape)\n",
        "df.head()"
      ]
    },
    {
      "cell_type": "markdown",
      "metadata": {},
      "source": [
        "* chekcking for the valule counts of the target variable"
      ]
    },
    {
      "cell_type": "code",
      "execution_count": 29,
      "metadata": {},
      "outputs": [
        {
          "data": {
            "text/plain": [
              "diabetes\n",
              "1    4946\n",
              "0    4096\n",
              "Name: count, dtype: int64"
            ]
          },
          "execution_count": 29,
          "metadata": {},
          "output_type": "execute_result"
        }
      ],
      "source": [
        "df['diabetes'].value_counts()"
      ]
    },
    {
      "cell_type": "markdown",
      "metadata": {},
      "source": [
        "* We split the data into train and test sets."
      ]
    },
    {
      "cell_type": "code",
      "execution_count": 30,
      "metadata": {},
      "outputs": [
        {
          "name": "stdout",
          "output_type": "stream",
          "text": [
            "diabetes\n",
            "1    1020\n",
            "0     789\n",
            "Name: count, dtype: int64\n",
            "* Train set: (7233, 9) (7233,) \n",
            "* Test set: (1809, 9) (1809,)\n"
          ]
        }
      ],
      "source": [
        "# Separate the features and target variable\n",
        "X_train, X_test,y_train, y_test = train_test_split(\n",
        "                                    df.drop(['diabetes'],axis=1),\n",
        "                                    df['diabetes'],\n",
        "                                    test_size=0.2,\n",
        "                                   #stratify=df['diabetes'],\n",
        "                                    random_state=42\n",
        "                                    )\n",
        "\"\"\"\n",
        "Add original index to X_test for later use for prediction probabilities.\n",
        "To create risk scores and categories\n",
        "\"\"\"\n",
        "df_xtest = df.loc[X_test.index].copy() \n",
        "print(y_test.value_counts())\n",
        "\n",
        "print(\"* Train set:\", X_train.shape, y_train.shape, \"\\n* Test set:\", X_test.shape, y_test.shape)"
      ]
    },
    {
      "cell_type": "markdown",
      "metadata": {},
      "source": [
        "## Logistic Regression"
      ]
    },
    {
      "cell_type": "markdown",
      "metadata": {},
      "source": [
        "* we create a pipeline with a scaler, feature selector and a classifier model"
      ]
    },
    {
      "cell_type": "code",
      "execution_count": 31,
      "metadata": {},
      "outputs": [],
      "source": [
        "def pipeline_logistic_regression():\n",
        "\n",
        "    pipeline = Pipeline(\n",
        "        [\n",
        "            (\"feat_scaling\", StandardScaler()),\n",
        "            (\"feat_selection\", SelectFromModel(LogisticRegression(random_state=42))),\n",
        "            (\"model\", LogisticRegression(random_state=42)),\n",
        "        ]\n",
        "    )\n",
        "\n",
        "    return pipeline"
      ]
    },
    {
      "cell_type": "markdown",
      "metadata": {},
      "source": [
        "* Fit the pipeline with the train set"
      ]
    },
    {
      "cell_type": "code",
      "execution_count": 32,
      "metadata": {},
      "outputs": [
        {
          "data": {
            "text/html": [
              "<style>#sk-container-id-2 {color: black;}#sk-container-id-2 pre{padding: 0;}#sk-container-id-2 div.sk-toggleable {background-color: white;}#sk-container-id-2 label.sk-toggleable__label {cursor: pointer;display: block;width: 100%;margin-bottom: 0;padding: 0.3em;box-sizing: border-box;text-align: center;}#sk-container-id-2 label.sk-toggleable__label-arrow:before {content: \"▸\";float: left;margin-right: 0.25em;color: #696969;}#sk-container-id-2 label.sk-toggleable__label-arrow:hover:before {color: black;}#sk-container-id-2 div.sk-estimator:hover label.sk-toggleable__label-arrow:before {color: black;}#sk-container-id-2 div.sk-toggleable__content {max-height: 0;max-width: 0;overflow: hidden;text-align: left;background-color: #f0f8ff;}#sk-container-id-2 div.sk-toggleable__content pre {margin: 0.2em;color: black;border-radius: 0.25em;background-color: #f0f8ff;}#sk-container-id-2 input.sk-toggleable__control:checked~div.sk-toggleable__content {max-height: 200px;max-width: 100%;overflow: auto;}#sk-container-id-2 input.sk-toggleable__control:checked~label.sk-toggleable__label-arrow:before {content: \"▾\";}#sk-container-id-2 div.sk-estimator input.sk-toggleable__control:checked~label.sk-toggleable__label {background-color: #d4ebff;}#sk-container-id-2 div.sk-label input.sk-toggleable__control:checked~label.sk-toggleable__label {background-color: #d4ebff;}#sk-container-id-2 input.sk-hidden--visually {border: 0;clip: rect(1px 1px 1px 1px);clip: rect(1px, 1px, 1px, 1px);height: 1px;margin: -1px;overflow: hidden;padding: 0;position: absolute;width: 1px;}#sk-container-id-2 div.sk-estimator {font-family: monospace;background-color: #f0f8ff;border: 1px dotted black;border-radius: 0.25em;box-sizing: border-box;margin-bottom: 0.5em;}#sk-container-id-2 div.sk-estimator:hover {background-color: #d4ebff;}#sk-container-id-2 div.sk-parallel-item::after {content: \"\";width: 100%;border-bottom: 1px solid gray;flex-grow: 1;}#sk-container-id-2 div.sk-label:hover label.sk-toggleable__label {background-color: #d4ebff;}#sk-container-id-2 div.sk-serial::before {content: \"\";position: absolute;border-left: 1px solid gray;box-sizing: border-box;top: 0;bottom: 0;left: 50%;z-index: 0;}#sk-container-id-2 div.sk-serial {display: flex;flex-direction: column;align-items: center;background-color: white;padding-right: 0.2em;padding-left: 0.2em;position: relative;}#sk-container-id-2 div.sk-item {position: relative;z-index: 1;}#sk-container-id-2 div.sk-parallel {display: flex;align-items: stretch;justify-content: center;background-color: white;position: relative;}#sk-container-id-2 div.sk-item::before, #sk-container-id-2 div.sk-parallel-item::before {content: \"\";position: absolute;border-left: 1px solid gray;box-sizing: border-box;top: 0;bottom: 0;left: 50%;z-index: -1;}#sk-container-id-2 div.sk-parallel-item {display: flex;flex-direction: column;z-index: 1;position: relative;background-color: white;}#sk-container-id-2 div.sk-parallel-item:first-child::after {align-self: flex-end;width: 50%;}#sk-container-id-2 div.sk-parallel-item:last-child::after {align-self: flex-start;width: 50%;}#sk-container-id-2 div.sk-parallel-item:only-child::after {width: 0;}#sk-container-id-2 div.sk-dashed-wrapped {border: 1px dashed gray;margin: 0 0.4em 0.5em 0.4em;box-sizing: border-box;padding-bottom: 0.4em;background-color: white;}#sk-container-id-2 div.sk-label label {font-family: monospace;font-weight: bold;display: inline-block;line-height: 1.2em;}#sk-container-id-2 div.sk-label-container {text-align: center;}#sk-container-id-2 div.sk-container {/* jupyter's `normalize.less` sets `[hidden] { display: none; }` but bootstrap.min.css set `[hidden] { display: none !important; }` so we also need the `!important` here to be able to override the default hidden behavior on the sphinx rendered scikit-learn.org. See: https://github.com/scikit-learn/scikit-learn/issues/21755 */display: inline-block !important;position: relative;}#sk-container-id-2 div.sk-text-repr-fallback {display: none;}</style><div id=\"sk-container-id-2\" class=\"sk-top-container\"><div class=\"sk-text-repr-fallback\"><pre>Pipeline(steps=[(&#x27;feat_scaling&#x27;, StandardScaler()),\n",
              "                (&#x27;feat_selection&#x27;,\n",
              "                 SelectFromModel(estimator=LogisticRegression(random_state=42))),\n",
              "                (&#x27;model&#x27;, LogisticRegression(random_state=42))])</pre><b>In a Jupyter environment, please rerun this cell to show the HTML representation or trust the notebook. <br />On GitHub, the HTML representation is unable to render, please try loading this page with nbviewer.org.</b></div><div class=\"sk-container\" hidden><div class=\"sk-item sk-dashed-wrapped\"><div class=\"sk-label-container\"><div class=\"sk-label sk-toggleable\"><input class=\"sk-toggleable__control sk-hidden--visually\" id=\"sk-estimator-id-7\" type=\"checkbox\" ><label for=\"sk-estimator-id-7\" class=\"sk-toggleable__label sk-toggleable__label-arrow\">Pipeline</label><div class=\"sk-toggleable__content\"><pre>Pipeline(steps=[(&#x27;feat_scaling&#x27;, StandardScaler()),\n",
              "                (&#x27;feat_selection&#x27;,\n",
              "                 SelectFromModel(estimator=LogisticRegression(random_state=42))),\n",
              "                (&#x27;model&#x27;, LogisticRegression(random_state=42))])</pre></div></div></div><div class=\"sk-serial\"><div class=\"sk-item\"><div class=\"sk-estimator sk-toggleable\"><input class=\"sk-toggleable__control sk-hidden--visually\" id=\"sk-estimator-id-8\" type=\"checkbox\" ><label for=\"sk-estimator-id-8\" class=\"sk-toggleable__label sk-toggleable__label-arrow\">StandardScaler</label><div class=\"sk-toggleable__content\"><pre>StandardScaler()</pre></div></div></div><div class=\"sk-item sk-dashed-wrapped\"><div class=\"sk-label-container\"><div class=\"sk-label sk-toggleable\"><input class=\"sk-toggleable__control sk-hidden--visually\" id=\"sk-estimator-id-9\" type=\"checkbox\" ><label for=\"sk-estimator-id-9\" class=\"sk-toggleable__label sk-toggleable__label-arrow\">feat_selection: SelectFromModel</label><div class=\"sk-toggleable__content\"><pre>SelectFromModel(estimator=LogisticRegression(random_state=42))</pre></div></div></div><div class=\"sk-parallel\"><div class=\"sk-parallel-item\"><div class=\"sk-item\"><div class=\"sk-label-container\"><div class=\"sk-label sk-toggleable\"><input class=\"sk-toggleable__control sk-hidden--visually\" id=\"sk-estimator-id-10\" type=\"checkbox\" ><label for=\"sk-estimator-id-10\" class=\"sk-toggleable__label sk-toggleable__label-arrow\">estimator: LogisticRegression</label><div class=\"sk-toggleable__content\"><pre>LogisticRegression(random_state=42)</pre></div></div></div><div class=\"sk-serial\"><div class=\"sk-item\"><div class=\"sk-estimator sk-toggleable\"><input class=\"sk-toggleable__control sk-hidden--visually\" id=\"sk-estimator-id-11\" type=\"checkbox\" ><label for=\"sk-estimator-id-11\" class=\"sk-toggleable__label sk-toggleable__label-arrow\">LogisticRegression</label><div class=\"sk-toggleable__content\"><pre>LogisticRegression(random_state=42)</pre></div></div></div></div></div></div></div></div><div class=\"sk-item\"><div class=\"sk-estimator sk-toggleable\"><input class=\"sk-toggleable__control sk-hidden--visually\" id=\"sk-estimator-id-12\" type=\"checkbox\" ><label for=\"sk-estimator-id-12\" class=\"sk-toggleable__label sk-toggleable__label-arrow\">LogisticRegression</label><div class=\"sk-toggleable__content\"><pre>LogisticRegression(random_state=42)</pre></div></div></div></div></div></div></div>"
            ],
            "text/plain": [
              "Pipeline(steps=[('feat_scaling', StandardScaler()),\n",
              "                ('feat_selection',\n",
              "                 SelectFromModel(estimator=LogisticRegression(random_state=42))),\n",
              "                ('model', LogisticRegression(random_state=42))])"
            ]
          },
          "execution_count": 32,
          "metadata": {},
          "output_type": "execute_result"
        }
      ],
      "source": [
        "pipeline = pipeline_logistic_regression()\n",
        "pipeline.fit(X_train, y_train)"
      ]
    },
    {
      "cell_type": "markdown",
      "metadata": {},
      "source": [
        "* Next we learn the model coefficients "
      ]
    },
    {
      "cell_type": "code",
      "execution_count": 33,
      "metadata": {},
      "outputs": [],
      "source": [
        "def logistic_regression_coef(model, columns):\n",
        "\n",
        "    coeff_df = pd.DataFrame(\n",
        "        model.coef_, index=[\"Coefficient\"], columns=columns\n",
        "    ).T.sort_values([\"Coefficient\"], key=abs, ascending=False)\n",
        "    print(coeff_df)"
      ]
    },
    {
      "cell_type": "code",
      "execution_count": 34,
      "metadata": {},
      "outputs": [
        {
          "name": "stdout",
          "output_type": "stream",
          "text": [
            "                     Coefficient\n",
            "HbA1c_level             2.452627\n",
            "blood_glucose_level     1.823858\n",
            "age                     0.914494\n"
          ]
        }
      ],
      "source": [
        "logistic_regression_coef(\n",
        "    model=pipeline[\"model\"],\n",
        "    columns=X_train.columns[pipeline[\"feat_selection\"].get_support()],\n",
        ")"
      ]
    },
    {
      "cell_type": "markdown",
      "metadata": {},
      "source": [
        "* Here's what we observe from the coefficients\n",
        "\n",
        "| Feature              | Coefficient | Interpretation                                                              |\n",
        "|----------------------|-------------|-----------------------------------------------------------------------------|\n",
        "| HbA1c_level          | 2.45        | Strong positive impact on the probability of diabetes                       |\n",
        "| blood_glucose_level  | 1.82        | Also a strong positive impact, but slightly less than HbA1c                 |\n",
        "| age                  | 0.91        | Smaller positive impact, but still relevant                                 |\n",
        "\n",
        "\n",
        "* The model selected the 3 features based on the importance of their logistic regression coefficients.\n",
        "\n",
        "* Among them, HbA1c level is the most influential, followed by blood glucose level, and then age.\n",
        "\n",
        "* The model is interpreting higher values for all three as increasing the chance of the positive outcome."
      ]
    },
    {
      "cell_type": "markdown",
      "metadata": {},
      "source": [
        "* Now we will look at the confusion matrix and classification report for performance metrics"
      ]
    },
    {
      "cell_type": "code",
      "execution_count": 35,
      "metadata": {},
      "outputs": [],
      "source": [
        "def confusion_matrix_and_report(X, y, pipeline, label_map):\n",
        "    \n",
        "    prediction = pipeline.predict(X)\n",
        "\n",
        "    print(\"---  Confusion Matrix  ---\")\n",
        "    print(\n",
        "        pd.DataFrame(\n",
        "            confusion_matrix(y_true=y, y_pred=prediction),\n",
        "            columns=[[\"Prediction \" + sub for sub in label_map]],\n",
        "            index=[[\"Actual \" + sub for sub in label_map]],\n",
        "        )\n",
        "    )\n",
        "    print(\"\\n\")\n",
        "\n",
        "    print(\"---  Classification Report  ---\")\n",
        "    print(classification_report(y, prediction, target_names=label_map), \"\\n\")\n",
        "\n",
        "\n",
        "def clf_performance(X_train, y_train, X_test, y_test, pipeline, label_map):\n",
        "    \n",
        "    print(\"#### Train Set #### \\n\")\n",
        "    confusion_matrix_and_report(X_train, y_train, pipeline, label_map)\n",
        "\n",
        "    print(\"#### Test Set ####\\n\")\n",
        "    confusion_matrix_and_report(X_test, y_test, pipeline, label_map)\n"
      ]
    },
    {
      "cell_type": "code",
      "execution_count": 36,
      "metadata": {},
      "outputs": [
        {
          "name": "stdout",
          "output_type": "stream",
          "text": [
            "#### Train Set #### \n",
            "\n",
            "---  Confusion Matrix  ---\n",
            "                   Prediction No Diabetes Prediction Diabetes\n",
            "Actual No Diabetes                   2794                 513\n",
            "Actual Diabetes                       539                3387\n",
            "\n",
            "\n",
            "---  Classification Report  ---\n",
            "              precision    recall  f1-score   support\n",
            "\n",
            " No Diabetes       0.84      0.84      0.84      3307\n",
            "    Diabetes       0.87      0.86      0.87      3926\n",
            "\n",
            "    accuracy                           0.85      7233\n",
            "   macro avg       0.85      0.85      0.85      7233\n",
            "weighted avg       0.85      0.85      0.85      7233\n",
            " \n",
            "\n",
            "#### Test Set ####\n",
            "\n",
            "---  Confusion Matrix  ---\n",
            "                   Prediction No Diabetes Prediction Diabetes\n",
            "Actual No Diabetes                    663                 126\n",
            "Actual Diabetes                       133                 887\n",
            "\n",
            "\n",
            "---  Classification Report  ---\n",
            "              precision    recall  f1-score   support\n",
            "\n",
            " No Diabetes       0.83      0.84      0.84       789\n",
            "    Diabetes       0.88      0.87      0.87      1020\n",
            "\n",
            "    accuracy                           0.86      1809\n",
            "   macro avg       0.85      0.85      0.85      1809\n",
            "weighted avg       0.86      0.86      0.86      1809\n",
            " \n",
            "\n"
          ]
        }
      ],
      "source": [
        "clf_performance(\n",
        "    X_train=X_train,\n",
        "    y_train=y_train,\n",
        "    X_test=X_test,\n",
        "    y_test=y_test,\n",
        "    pipeline=pipeline,\n",
        "    label_map=[\"No Diabetes\", \"Diabetes\"],\n",
        ")"
      ]
    },
    {
      "cell_type": "markdown",
      "metadata": {},
      "source": [
        "## ✅ What Looks Good\n",
        "\n",
        "- **Overall Accuracy is solid:**\n",
        "  - Train: 85%\n",
        "  - Test: 86%\n",
        "  - No major signs of overfitting or underfitting.\n",
        "\n",
        "- **Performance is slightly better for the 'Diabetes' class**, which is often the more critical one to catch:\n",
        "  - Test set F1-score for Diabetes: 0.87\n",
        "  - Recall for Diabetes: 0.87 (highly valuable in medical diagnosis)\n",
        "\n",
        "- **Balanced macro averages:**  \n",
        "  Precision, recall, and F1 are all around 0.85, which shows that the model doesn't heavily favor one class over another.\n",
        "\n",
        "  ## ⚠️ What Might Be Concerning\n",
        "\n",
        "- **False Negatives (missed diabetes cases):**\n",
        "  - Test: 133 missed diabetic patients\n",
        "  - That's ~13% of diabetic cases going undetected.\n",
        "  - In real-world healthcare, this could be dangerous, as undiagnosed diabetes can lead to complications.\n",
        "\n",
        "- **False Positives (wrongly predicted diabetes):**\n",
        "  - Test: 126 non-diabetic people predicted as diabetic\n",
        "  - This can cause anxiety, unnecessary testing, and cost.\n",
        "  - Even though this number is relatively low, its impact on patient well-being should not be dismissed.\n",
        "\n",
        "  ## ⚙️ Experimentation with Stratification and Class Weights\n",
        "\n",
        "I experimented with applying **stratification** and **class-weight balancing** to improve model performance, especially to reduce false negatives.\n",
        "\n",
        "- However, these changes **increased the number of false negatives**, meaning more actual diabetes cases were predicted as no diabetes.\n",
        "- Since **minimizing false negatives is critical** in this healthcare context, I chose **not to keep these changes**.\n"
      ]
    },
    {
      "cell_type": "markdown",
      "metadata": {},
      "source": [
        "### ✅ Summary\n",
        "> The model demonstrates strong and balanced performance, achieving an accuracy of **85% on the training set** and **86% on the test set**. It maintains consistent precision and recall across both classes, with particularly good performance in identifying diabetes cases (**F1-score: 0.87** on the test set). The confusion matrix reveals a manageable number of false negatives and false positives, but since this is a healthcare application, further steps may be needed to validate these predictions before clinical action is taken."
      ]
    },
    {
      "cell_type": "markdown",
      "metadata": {
        "id": "ZY3l0-AxO93d"
      },
      "source": [
        "---"
      ]
    },
    {
      "cell_type": "markdown",
      "metadata": {
        "id": "uFQo3ycuO-v6"
      },
      "source": [
        "## Random Forest Classifier"
      ]
    },
    {
      "cell_type": "markdown",
      "metadata": {},
      "source": [
        "* Implementing a Random Forest Classifier to see if it improves performance over Logistic Regression."
      ]
    },
    {
      "cell_type": "markdown",
      "metadata": {},
      "source": [
        "* Define the pipeline with a scaler, feature selector and the Random Forest Classifier\n",
        "    * I already did a grid search initially found the best estimators. So passed them here directly in the model step since i was encountering Kernel dying issue."
      ]
    },
    {
      "cell_type": "code",
      "execution_count": 37,
      "metadata": {},
      "outputs": [],
      "source": [
        "def pipeline_rf_clf():\n",
        "  pipeline = Pipeline([\n",
        "      ( \"feat_scaling\",StandardScaler() ),\n",
        "      ( \"feat_selection\",SelectFromModel(RandomForestClassifier(random_state=42)) ),\n",
        "      ( \"model\", RandomForestClassifier(n_estimators=50, max_depth=10, random_state=42)),\n",
        "\n",
        "    ])\n",
        "\n",
        "  return pipeline"
      ]
    },
    {
      "cell_type": "markdown",
      "metadata": {},
      "source": [
        "* fit the pipeline with the train set"
      ]
    },
    {
      "cell_type": "code",
      "execution_count": 38,
      "metadata": {},
      "outputs": [
        {
          "data": {
            "text/html": [
              "<style>#sk-container-id-3 {color: black;}#sk-container-id-3 pre{padding: 0;}#sk-container-id-3 div.sk-toggleable {background-color: white;}#sk-container-id-3 label.sk-toggleable__label {cursor: pointer;display: block;width: 100%;margin-bottom: 0;padding: 0.3em;box-sizing: border-box;text-align: center;}#sk-container-id-3 label.sk-toggleable__label-arrow:before {content: \"▸\";float: left;margin-right: 0.25em;color: #696969;}#sk-container-id-3 label.sk-toggleable__label-arrow:hover:before {color: black;}#sk-container-id-3 div.sk-estimator:hover label.sk-toggleable__label-arrow:before {color: black;}#sk-container-id-3 div.sk-toggleable__content {max-height: 0;max-width: 0;overflow: hidden;text-align: left;background-color: #f0f8ff;}#sk-container-id-3 div.sk-toggleable__content pre {margin: 0.2em;color: black;border-radius: 0.25em;background-color: #f0f8ff;}#sk-container-id-3 input.sk-toggleable__control:checked~div.sk-toggleable__content {max-height: 200px;max-width: 100%;overflow: auto;}#sk-container-id-3 input.sk-toggleable__control:checked~label.sk-toggleable__label-arrow:before {content: \"▾\";}#sk-container-id-3 div.sk-estimator input.sk-toggleable__control:checked~label.sk-toggleable__label {background-color: #d4ebff;}#sk-container-id-3 div.sk-label input.sk-toggleable__control:checked~label.sk-toggleable__label {background-color: #d4ebff;}#sk-container-id-3 input.sk-hidden--visually {border: 0;clip: rect(1px 1px 1px 1px);clip: rect(1px, 1px, 1px, 1px);height: 1px;margin: -1px;overflow: hidden;padding: 0;position: absolute;width: 1px;}#sk-container-id-3 div.sk-estimator {font-family: monospace;background-color: #f0f8ff;border: 1px dotted black;border-radius: 0.25em;box-sizing: border-box;margin-bottom: 0.5em;}#sk-container-id-3 div.sk-estimator:hover {background-color: #d4ebff;}#sk-container-id-3 div.sk-parallel-item::after {content: \"\";width: 100%;border-bottom: 1px solid gray;flex-grow: 1;}#sk-container-id-3 div.sk-label:hover label.sk-toggleable__label {background-color: #d4ebff;}#sk-container-id-3 div.sk-serial::before {content: \"\";position: absolute;border-left: 1px solid gray;box-sizing: border-box;top: 0;bottom: 0;left: 50%;z-index: 0;}#sk-container-id-3 div.sk-serial {display: flex;flex-direction: column;align-items: center;background-color: white;padding-right: 0.2em;padding-left: 0.2em;position: relative;}#sk-container-id-3 div.sk-item {position: relative;z-index: 1;}#sk-container-id-3 div.sk-parallel {display: flex;align-items: stretch;justify-content: center;background-color: white;position: relative;}#sk-container-id-3 div.sk-item::before, #sk-container-id-3 div.sk-parallel-item::before {content: \"\";position: absolute;border-left: 1px solid gray;box-sizing: border-box;top: 0;bottom: 0;left: 50%;z-index: -1;}#sk-container-id-3 div.sk-parallel-item {display: flex;flex-direction: column;z-index: 1;position: relative;background-color: white;}#sk-container-id-3 div.sk-parallel-item:first-child::after {align-self: flex-end;width: 50%;}#sk-container-id-3 div.sk-parallel-item:last-child::after {align-self: flex-start;width: 50%;}#sk-container-id-3 div.sk-parallel-item:only-child::after {width: 0;}#sk-container-id-3 div.sk-dashed-wrapped {border: 1px dashed gray;margin: 0 0.4em 0.5em 0.4em;box-sizing: border-box;padding-bottom: 0.4em;background-color: white;}#sk-container-id-3 div.sk-label label {font-family: monospace;font-weight: bold;display: inline-block;line-height: 1.2em;}#sk-container-id-3 div.sk-label-container {text-align: center;}#sk-container-id-3 div.sk-container {/* jupyter's `normalize.less` sets `[hidden] { display: none; }` but bootstrap.min.css set `[hidden] { display: none !important; }` so we also need the `!important` here to be able to override the default hidden behavior on the sphinx rendered scikit-learn.org. See: https://github.com/scikit-learn/scikit-learn/issues/21755 */display: inline-block !important;position: relative;}#sk-container-id-3 div.sk-text-repr-fallback {display: none;}</style><div id=\"sk-container-id-3\" class=\"sk-top-container\"><div class=\"sk-text-repr-fallback\"><pre>Pipeline(steps=[(&#x27;feat_scaling&#x27;, StandardScaler()),\n",
              "                (&#x27;feat_selection&#x27;,\n",
              "                 SelectFromModel(estimator=RandomForestClassifier(random_state=42))),\n",
              "                (&#x27;model&#x27;,\n",
              "                 RandomForestClassifier(max_depth=10, n_estimators=50,\n",
              "                                        random_state=42))])</pre><b>In a Jupyter environment, please rerun this cell to show the HTML representation or trust the notebook. <br />On GitHub, the HTML representation is unable to render, please try loading this page with nbviewer.org.</b></div><div class=\"sk-container\" hidden><div class=\"sk-item sk-dashed-wrapped\"><div class=\"sk-label-container\"><div class=\"sk-label sk-toggleable\"><input class=\"sk-toggleable__control sk-hidden--visually\" id=\"sk-estimator-id-13\" type=\"checkbox\" ><label for=\"sk-estimator-id-13\" class=\"sk-toggleable__label sk-toggleable__label-arrow\">Pipeline</label><div class=\"sk-toggleable__content\"><pre>Pipeline(steps=[(&#x27;feat_scaling&#x27;, StandardScaler()),\n",
              "                (&#x27;feat_selection&#x27;,\n",
              "                 SelectFromModel(estimator=RandomForestClassifier(random_state=42))),\n",
              "                (&#x27;model&#x27;,\n",
              "                 RandomForestClassifier(max_depth=10, n_estimators=50,\n",
              "                                        random_state=42))])</pre></div></div></div><div class=\"sk-serial\"><div class=\"sk-item\"><div class=\"sk-estimator sk-toggleable\"><input class=\"sk-toggleable__control sk-hidden--visually\" id=\"sk-estimator-id-14\" type=\"checkbox\" ><label for=\"sk-estimator-id-14\" class=\"sk-toggleable__label sk-toggleable__label-arrow\">StandardScaler</label><div class=\"sk-toggleable__content\"><pre>StandardScaler()</pre></div></div></div><div class=\"sk-item sk-dashed-wrapped\"><div class=\"sk-label-container\"><div class=\"sk-label sk-toggleable\"><input class=\"sk-toggleable__control sk-hidden--visually\" id=\"sk-estimator-id-15\" type=\"checkbox\" ><label for=\"sk-estimator-id-15\" class=\"sk-toggleable__label sk-toggleable__label-arrow\">feat_selection: SelectFromModel</label><div class=\"sk-toggleable__content\"><pre>SelectFromModel(estimator=RandomForestClassifier(random_state=42))</pre></div></div></div><div class=\"sk-parallel\"><div class=\"sk-parallel-item\"><div class=\"sk-item\"><div class=\"sk-label-container\"><div class=\"sk-label sk-toggleable\"><input class=\"sk-toggleable__control sk-hidden--visually\" id=\"sk-estimator-id-16\" type=\"checkbox\" ><label for=\"sk-estimator-id-16\" class=\"sk-toggleable__label sk-toggleable__label-arrow\">estimator: RandomForestClassifier</label><div class=\"sk-toggleable__content\"><pre>RandomForestClassifier(random_state=42)</pre></div></div></div><div class=\"sk-serial\"><div class=\"sk-item\"><div class=\"sk-estimator sk-toggleable\"><input class=\"sk-toggleable__control sk-hidden--visually\" id=\"sk-estimator-id-17\" type=\"checkbox\" ><label for=\"sk-estimator-id-17\" class=\"sk-toggleable__label sk-toggleable__label-arrow\">RandomForestClassifier</label><div class=\"sk-toggleable__content\"><pre>RandomForestClassifier(random_state=42)</pre></div></div></div></div></div></div></div></div><div class=\"sk-item\"><div class=\"sk-estimator sk-toggleable\"><input class=\"sk-toggleable__control sk-hidden--visually\" id=\"sk-estimator-id-18\" type=\"checkbox\" ><label for=\"sk-estimator-id-18\" class=\"sk-toggleable__label sk-toggleable__label-arrow\">RandomForestClassifier</label><div class=\"sk-toggleable__content\"><pre>RandomForestClassifier(max_depth=10, n_estimators=50, random_state=42)</pre></div></div></div></div></div></div></div>"
            ],
            "text/plain": [
              "Pipeline(steps=[('feat_scaling', StandardScaler()),\n",
              "                ('feat_selection',\n",
              "                 SelectFromModel(estimator=RandomForestClassifier(random_state=42))),\n",
              "                ('model',\n",
              "                 RandomForestClassifier(max_depth=10, n_estimators=50,\n",
              "                                        random_state=42))])"
            ]
          },
          "execution_count": 38,
          "metadata": {},
          "output_type": "execute_result"
        }
      ],
      "source": [
        "pipeline_rf = pipeline_rf_clf()\n",
        "pipeline_rf.fit(X_train, y_train)"
      ]
    },
    {
      "cell_type": "markdown",
      "metadata": {},
      "source": [
        "* checking for the features selected by the model"
      ]
    },
    {
      "cell_type": "code",
      "execution_count": 39,
      "metadata": {},
      "outputs": [
        {
          "data": {
            "text/plain": [
              "Index(['age', 'bmi', 'HbA1c_level', 'blood_glucose_level'], dtype='object')"
            ]
          },
          "execution_count": 39,
          "metadata": {},
          "output_type": "execute_result"
        }
      ],
      "source": [
        "selected_feature = X_train.columns[pipeline_rf.named_steps['feat_selection'].get_support()]\n",
        "selected_feature"
      ]
    },
    {
      "cell_type": "markdown",
      "metadata": {},
      "source": [
        "* The random forest model selected age, bmi, HbA1c_level and blood_glucose_level features.\n",
        "* This matches to our findings from statistical testing from EDA as well."
      ]
    },
    {
      "cell_type": "markdown",
      "metadata": {},
      "source": [
        "* evaluate the model with a confusion matrix and classification report"
      ]
    },
    {
      "cell_type": "code",
      "execution_count": 40,
      "metadata": {},
      "outputs": [
        {
          "name": "stdout",
          "output_type": "stream",
          "text": [
            "#### Train Set #### \n",
            "\n",
            "---  Confusion Matrix  ---\n",
            "                   Prediction No Diabetes Prediction Diabetes\n",
            "Actual No Diabetes                   2915                 392\n",
            "Actual Diabetes                       227                3699\n",
            "\n",
            "\n",
            "---  Classification Report  ---\n",
            "              precision    recall  f1-score   support\n",
            "\n",
            " No Diabetes       0.93      0.88      0.90      3307\n",
            "    Diabetes       0.90      0.94      0.92      3926\n",
            "\n",
            "    accuracy                           0.91      7233\n",
            "   macro avg       0.92      0.91      0.91      7233\n",
            "weighted avg       0.91      0.91      0.91      7233\n",
            " \n",
            "\n",
            "#### Test Set ####\n",
            "\n",
            "---  Confusion Matrix  ---\n",
            "                   Prediction No Diabetes Prediction Diabetes\n",
            "Actual No Diabetes                    668                 121\n",
            "Actual Diabetes                        66                 954\n",
            "\n",
            "\n",
            "---  Classification Report  ---\n",
            "              precision    recall  f1-score   support\n",
            "\n",
            " No Diabetes       0.91      0.85      0.88       789\n",
            "    Diabetes       0.89      0.94      0.91      1020\n",
            "\n",
            "    accuracy                           0.90      1809\n",
            "   macro avg       0.90      0.89      0.89      1809\n",
            "weighted avg       0.90      0.90      0.90      1809\n",
            " \n",
            "\n"
          ]
        }
      ],
      "source": [
        "clf_performance(X_train=X_train, y_train=y_train,\n",
        "                X_test=X_test, y_test=y_test,\n",
        "                pipeline=pipeline_rf,\n",
        "                label_map= ['No Diabetes', 'Diabetes'] \n",
        "                )"
      ]
    },
    {
      "cell_type": "markdown",
      "metadata": {},
      "source": [
        "* plotting the feature importance from model step"
      ]
    },
    {
      "cell_type": "code",
      "execution_count": 41,
      "metadata": {},
      "outputs": [
        {
          "data": {
            "image/png": "[encoded data removed]",
            "text/plain": [
              "<Figure size 1000x600 with 1 Axes>"
            ]
          },
          "metadata": {},
          "output_type": "display_data"
        }
      ],
      "source": [
        "# Get the trained classifier\n",
        "rf_model = pipeline_rf.named_steps['model']\n",
        "\n",
        "# Use selected features only\n",
        "selected_features = X_train.columns[pipeline_rf.named_steps['feat_selection'].get_support()]\n",
        "\n",
        "# Plot feature importances\n",
        "importances = rf_model.feature_importances_\n",
        "feat_imp = pd.Series(importances, index=selected_features).sort_values(ascending=False)\n",
        "\n",
        "plt.figure(figsize=(10,6))\n",
        "feat_imp.plot(kind='bar')\n",
        "plt.title(\"Feature Importances from Random Forest\")\n",
        "plt.ylabel(\"Importance Score\")\n",
        "plt.tight_layout()\n",
        "plt.show()"
      ]
    },
    {
      "cell_type": "markdown",
      "metadata": {},
      "source": [
        "### 🔍 Side-by-Side Comparison\n",
        "\n",
        "#### ✅ Accuracy\n",
        "\n",
        "| Model              | Train Accuracy | Test Accuracy |\n",
        "|--------------------|----------------|---------------|\n",
        "| Random Forest      | 91%            | 90%           |\n",
        "| Logistic Regression | 85%            | 86%           |\n",
        "\n",
        "> 🔹 **Winner: Random Forest** — better overall accuracy, and smaller train-test gap.\n",
        "\n",
        "---\n",
        "\n",
        "#### ✅ Recall (especially important for Diabetes class)\n",
        "\n",
        "| Model              | Train Recall – Diabetes | Test Recall – Diabetes |\n",
        "|--------------------|------------------------|-----------------------|\n",
        "| Random Forest      | 0.94                   | 0.94                  |\n",
        "| Logistic Regression | 0.86                   | 0.87                  |\n",
        "\n",
        "> 🔹 **Winner: Random Forest** — significantly higher recall for the Diabetes class, which is crucial in medical diagnosis.\n",
        "\n",
        "---\n",
        "\n",
        "#### ✅ False Negatives (missed diabetes cases)\n",
        "\n",
        "| Model              | Test False Negatives    |\n",
        "|--------------------|------------------------|\n",
        "| Random Forest      | 66 (6.5%)               |\n",
        "| Logistic Regression | 133 (13%)               |\n",
        "\n",
        "> 🔹 **Winner: Random Forest** — detects more true diabetes cases (almost halves the number of missed diagnoses).\n",
        "\n",
        "### ✅ Final Verdict\n",
        "\n",
        "Random Forest clearly outperforms Logistic Regression across all major metrics, especially in terms of recall for diabetic patients, overall accuracy, and reduction in false negatives — making it the stronger choice between the 2 models for this diabetes prediction task.\n",
        "\n",
        "## ⚙️ Experimentation with hyperparameter optimisation\n",
        "\n",
        "- Initially tried random forest with just 'n_estimators' but the model overfitted the training data. The recall rate in train set was 1 but it was performing poorly on the test set. \n",
        "\n",
        "- So added 'max_depth' to the hyperparameter grid to control the depth of each tree in the forest.\n",
        "\n",
        "- This helped reduce overfitting and improved generalization to unseen data."
      ]
    },
    {
      "cell_type": "markdown",
      "metadata": {},
      "source": [
        "* Using the random forest classifier to generate risk score of diabetes."
      ]
    },
    {
      "cell_type": "code",
      "execution_count": 42,
      "metadata": {},
      "outputs": [
        {
          "name": "stdout",
          "output_type": "stream",
          "text": [
            "      risk_score risk_category\n",
            "1263        0.33           Low\n",
            "93          2.33           Low\n",
            "3316       63.51          High\n",
            "3027       65.58          High\n",
            "8359       16.42           Low\n"
          ]
        },
        {
          "data": {
            "text/plain": [
              "risk_category\n",
              "High      958\n",
              "Low       581\n",
              "Medium    183\n",
              "Normal     87\n",
              "Name: count, dtype: int64"
            ]
          },
          "execution_count": 42,
          "metadata": {},
          "output_type": "execute_result"
        }
      ],
      "source": [
        "# Get predicted probabilities for positive class (diabetes) \n",
        "\n",
        "df_xtest['risk_score'] = (pipeline_rf.predict_proba(X_test)[:, 1] * 100).round(2)\n",
        "\n",
        "# Categorize into risk groups based on risk score\n",
        "def categorize_risk(score):\n",
        "    if score < 20:\n",
        "        return 'Low'\n",
        "    elif 20 <= score < 40:\n",
        "        return 'Normal'\n",
        "    elif 40 <= score < 60:\n",
        "        return 'Medium'\n",
        "    else:\n",
        "        return 'High'\n",
        "\n",
        "df_xtest['risk_category'] = df_xtest['risk_score'].apply(categorize_risk)\n",
        "\n",
        "# View a few rows\n",
        "print(df_xtest[['risk_score', 'risk_category']].head())\n",
        "\n",
        "# checking the value counts for each risk category\n",
        "df_xtest['risk_category'].value_counts()"
      ]
    },
    {
      "cell_type": "markdown",
      "metadata": {},
      "source": [
        "* Load this to a csv file named **diabetes_risk_prediction.csv** located in the transformed data folder.\n",
        "\n",
        "*Note: \n",
        "    - This output or **risk prediction is only on the test set** and not on the entire dataset.\n",
        "     It does not have the target diabetes column instead has only the risk_score and risk_category*"
      ]
    },
    {
      "cell_type": "code",
      "execution_count": 43,
      "metadata": {},
      "outputs": [],
      "source": [
        "current_dir = os.getcwd()\n",
        "current_dir\n",
        "\n",
        "df_xtest.to_csv('Data/transformed/diabetes_risk_prediction.csv', index=False)"
      ]
    },
    {
      "cell_type": "markdown",
      "metadata": {},
      "source": [
        "\n",
        "* Used GridSearchCV to find the best hyperparameters for the Random Forest model.\n",
        "* I ran into kernel dying issue but before that I could do a successful grid seacrch and found the best hyperparameters. Hence decided to comment all the code related to grid search. "
      ]
    },
    {
      "cell_type": "markdown",
      "metadata": {},
      "source": [
        "#### The code used for grid seacrh andhyper parameter optimisation"
      ]
    },
    {
      "cell_type": "markdown",
      "metadata": {},
      "source": [
        "\n",
        "* Used GridSearchCV to find the best hyperparameters for the Random Forest model.\n",
        "* I ran into kernel dying issue but before that I could do a successful grid seacrch and found the best hyperparameters. Hence decided to comment all the code related to grid search. "
      ]
    },
    {
      "cell_type": "code",
      "execution_count": null,
      "metadata": {},
      "outputs": [],
      "source": [
        "# 1st attempt with just n_estimators\n",
        "# param_grid = {\"model__n_estimators\":[50,20],\n",
        "#               }\n",
        "\n",
        "# 2nd attempt with n_estimators and max_depth\n",
        "# param_grid = {\n",
        "#     'model__n_estimators': [50, 100],\n",
        "#     'model__max_depth': [None, 10, 20]\n",
        "# }\n",
        "\n",
        "# param_grid\n",
        "\n",
        "# defining the grid search\n",
        "# grid = GridSearchCV(estimator=pipeline_rf_clf(),\n",
        "#                     param_grid=param_grid,\n",
        "#                     cv=2,\n",
        "#                     n_jobs=-2,\n",
        "#                     verbose=1,\n",
        "#                     scoring=make_scorer(recall_score, pos_label=1)\n",
        "#                     )\n",
        "\n",
        "# grid = GridSearchCV(\n",
        "#     estimator=pipeline_rf_clf(),\n",
        "#     param_grid=param_grid,\n",
        "#     scoring=make_scorer(recall_score, pos_label=1),  # assuming 1 = 'Diabetes'\n",
        "#     cv=3,\n",
        "#     n_jobs=-1,\n",
        "#     verbose=2\n",
        "# )\n",
        "\n",
        "# grid.fit(X_train,y_train)\n",
        "\n",
        "# checking the results of the grid search\n",
        "# (pd.DataFrame(grid.cv_results_)\n",
        "# .sort_values(by='mean_test_score',ascending=False)\n",
        "# .filter(['params','mean_test_score'])\n",
        "# .values\n",
        "#  )\n",
        "\n",
        "# getting the best hyperparameters combinations\n",
        "# grid.best_params_"
      ]
    },
    {
      "cell_type": "markdown",
      "metadata": {},
      "source": [
        "---"
      ]
    },
    {
      "cell_type": "markdown",
      "metadata": {},
      "source": [
        "## Conclusion and Next Steps"
      ]
    },
    {
      "cell_type": "markdown",
      "metadata": {},
      "source": [
        "* Random Forest clearly outperformed Logistic Regression across all major metrics, especially in terms of recall for diabetic patients, overall accuracy, and reduction in false negatives — making it the stronger choice between the 2 models for this diabetes prediction task.\n",
        "\n",
        "* Using this model's probability score, I predicted the risk_category on the test set and captured the results in a new csv file.\n",
        "\n",
        "* Next we are going to do a Power BI dashboard to communicate the insights."
      ]
    }
  ],
  "metadata": {
    "accelerator": "GPU",
    "colab": {
      "name": "Data Practitioner Jupyter Notebook.ipynb",
      "provenance": [],
      "toc_visible": true
    },
    "kernelspec": {
      "display_name": "Python 3",
      "language": "python",
      "name": "python3"
    },
    "language_info": {
      "codemirror_mode": {
        "name": "ipython",
        "version": 3
      },
      "file_extension": ".py",
      "mimetype": "text/x-python",
      "name": "python",
      "nbconvert_exporter": "python",
      "pygments_lexer": "ipython3",
      "version": "3.12.1"
    },
    "orig_nbformat": 2
  },
  "nbformat": 4,
  "nbformat_minor": 2
}
